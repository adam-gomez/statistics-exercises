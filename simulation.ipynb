{
 "cells": [
  {
   "cell_type": "markdown",
   "metadata": {},
   "source": [
    "# Simulation Exercises"
   ]
  },
  {
   "cell_type": "code",
   "execution_count": 1,
   "metadata": {},
   "outputs": [],
   "source": [
    "import numpy as np\n",
    "import pandas as pd\n",
    "np.random.seed(29)"
   ]
  },
  {
   "cell_type": "markdown",
   "metadata": {},
   "source": [
    "### How likely is it that you roll doubles when rolling two dice?"
   ]
  },
  {
   "cell_type": "markdown",
   "metadata": {},
   "source": [
    "#### SOLUTION ONE"
   ]
  },
  {
   "cell_type": "code",
   "execution_count": 51,
   "metadata": {
    "scrolled": true
   },
   "outputs": [
    {
     "data": {
      "text/plain": [
       "array([[4, 5],\n",
       "       [4, 6],\n",
       "       [2, 1],\n",
       "       ...,\n",
       "       [1, 4],\n",
       "       [5, 2],\n",
       "       [4, 2]])"
      ]
     },
     "execution_count": 51,
     "metadata": {},
     "output_type": "execute_result"
    }
   ],
   "source": [
    "# This creates a numpy array of outcomes. \n",
    "# Each element in the array will be a pair of numbers representing the numbers rolled.\n",
    "# The array will be 10,000 elements long, representing 10,000 trials of dice thrown\n",
    "n_trials = nrows = 100000\n",
    "n_dice = ncols = 2\n",
    "\n",
    "rolls = np.random.choice([1, 2, 3, 4, 5, 6], n_trials * n_dice).reshape(nrows, ncols)\n",
    "rolls"
   ]
  },
  {
   "cell_type": "code",
   "execution_count": 52,
   "metadata": {},
   "outputs": [
    {
     "name": "stdout",
     "output_type": "stream",
     "text": [
      "Based on a simulation of 100,000 rolls of two dice, the probability of rolling doubles is 0.16648.\n"
     ]
    }
   ],
   "source": [
    "# The empty list 'doubles' will contain a boolean series of 0's and 1's\n",
    "# This iterates through the numpy array and checks each pair\n",
    "# If the pair is \n",
    "doubles = []\n",
    "for roll in rolls:\n",
    "    if roll[0] == roll[1]:\n",
    "        doubles.append(1)\n",
    "    else:\n",
    "        doubles.append(0)\n",
    "\n",
    "percent_doubles = sum(doubles)/len(doubles)\n",
    "print(f\"Based on a simulation of 100,000 rolls of two dice, the probability of rolling doubles is {percent_doubles}.\")"
   ]
  },
  {
   "cell_type": "markdown",
   "metadata": {},
   "source": [
    "#### SOLUTION TWO"
   ]
  },
  {
   "cell_type": "code",
   "execution_count": 41,
   "metadata": {},
   "outputs": [
    {
     "data": {
      "text/html": [
       "<div>\n",
       "<style scoped>\n",
       "    .dataframe tbody tr th:only-of-type {\n",
       "        vertical-align: middle;\n",
       "    }\n",
       "\n",
       "    .dataframe tbody tr th {\n",
       "        vertical-align: top;\n",
       "    }\n",
       "\n",
       "    .dataframe thead th {\n",
       "        text-align: right;\n",
       "    }\n",
       "</style>\n",
       "<table border=\"1\" class=\"dataframe\">\n",
       "  <thead>\n",
       "    <tr style=\"text-align: right;\">\n",
       "      <th></th>\n",
       "      <th>die1</th>\n",
       "      <th>die2</th>\n",
       "    </tr>\n",
       "  </thead>\n",
       "  <tbody>\n",
       "    <tr>\n",
       "      <th>0</th>\n",
       "      <td>5</td>\n",
       "      <td>3</td>\n",
       "    </tr>\n",
       "    <tr>\n",
       "      <th>1</th>\n",
       "      <td>4</td>\n",
       "      <td>1</td>\n",
       "    </tr>\n",
       "    <tr>\n",
       "      <th>2</th>\n",
       "      <td>5</td>\n",
       "      <td>1</td>\n",
       "    </tr>\n",
       "    <tr>\n",
       "      <th>3</th>\n",
       "      <td>6</td>\n",
       "      <td>2</td>\n",
       "    </tr>\n",
       "    <tr>\n",
       "      <th>4</th>\n",
       "      <td>5</td>\n",
       "      <td>1</td>\n",
       "    </tr>\n",
       "  </tbody>\n",
       "</table>\n",
       "</div>"
      ],
      "text/plain": [
       "   die1  die2\n",
       "0     5     3\n",
       "1     4     1\n",
       "2     5     1\n",
       "3     6     2\n",
       "4     5     1"
      ]
     },
     "execution_count": 41,
     "metadata": {},
     "output_type": "execute_result"
    }
   ],
   "source": [
    "# Using DataFrames\n",
    "rolls = pd.DataFrame()\n",
    "rolls['die1'] = np.random.choice([1, 2, 3, 4, 5, 6], size=100000)\n",
    "rolls['die2'] = np.random.choice([1, 2, 3, 4, 5, 6], size=100000)\n",
    "rolls.head()"
   ]
  },
  {
   "cell_type": "code",
   "execution_count": 44,
   "metadata": {},
   "outputs": [
    {
     "data": {
      "text/html": [
       "<div>\n",
       "<style scoped>\n",
       "    .dataframe tbody tr th:only-of-type {\n",
       "        vertical-align: middle;\n",
       "    }\n",
       "\n",
       "    .dataframe tbody tr th {\n",
       "        vertical-align: top;\n",
       "    }\n",
       "\n",
       "    .dataframe thead th {\n",
       "        text-align: right;\n",
       "    }\n",
       "</style>\n",
       "<table border=\"1\" class=\"dataframe\">\n",
       "  <thead>\n",
       "    <tr style=\"text-align: right;\">\n",
       "      <th></th>\n",
       "      <th>die1</th>\n",
       "      <th>die2</th>\n",
       "      <th>is_pair</th>\n",
       "    </tr>\n",
       "  </thead>\n",
       "  <tbody>\n",
       "    <tr>\n",
       "      <th>0</th>\n",
       "      <td>5</td>\n",
       "      <td>3</td>\n",
       "      <td>False</td>\n",
       "    </tr>\n",
       "    <tr>\n",
       "      <th>1</th>\n",
       "      <td>4</td>\n",
       "      <td>1</td>\n",
       "      <td>False</td>\n",
       "    </tr>\n",
       "    <tr>\n",
       "      <th>2</th>\n",
       "      <td>5</td>\n",
       "      <td>1</td>\n",
       "      <td>False</td>\n",
       "    </tr>\n",
       "    <tr>\n",
       "      <th>3</th>\n",
       "      <td>6</td>\n",
       "      <td>2</td>\n",
       "      <td>False</td>\n",
       "    </tr>\n",
       "    <tr>\n",
       "      <th>4</th>\n",
       "      <td>5</td>\n",
       "      <td>1</td>\n",
       "      <td>False</td>\n",
       "    </tr>\n",
       "  </tbody>\n",
       "</table>\n",
       "</div>"
      ],
      "text/plain": [
       "   die1  die2  is_pair\n",
       "0     5     3    False\n",
       "1     4     1    False\n",
       "2     5     1    False\n",
       "3     6     2    False\n",
       "4     5     1    False"
      ]
     },
     "execution_count": 44,
     "metadata": {},
     "output_type": "execute_result"
    }
   ],
   "source": [
    "rolls['is_pair'] = rolls.die1 == rolls.die2\n",
    "rolls.head()"
   ]
  },
  {
   "cell_type": "code",
   "execution_count": 45,
   "metadata": {},
   "outputs": [
    {
     "data": {
      "text/plain": [
       "0.16476"
      ]
     },
     "execution_count": 45,
     "metadata": {},
     "output_type": "execute_result"
    }
   ],
   "source": [
    "rolls.is_pair.mean()"
   ]
  },
  {
   "cell_type": "markdown",
   "metadata": {},
   "source": [
    "#### SOLUTION THREE"
   ]
  },
  {
   "cell_type": "code",
   "execution_count": 46,
   "metadata": {},
   "outputs": [
    {
     "data": {
      "text/plain": [
       "0.16567"
      ]
     },
     "execution_count": 46,
     "metadata": {},
     "output_type": "execute_result"
    }
   ],
   "source": [
    "# Numpy Only\n",
    "a = np.random.choice([1, 2, 3, 4, 5, 6], size=100000)\n",
    "b = np.random.choice([1, 2, 3, 4, 5, 6], size=100000)\n",
    "(a == b).mean()"
   ]
  },
  {
   "cell_type": "markdown",
   "metadata": {},
   "source": [
    "### If you flip 8 coins, what is the probability of getting exactly 3 heads? "
   ]
  },
  {
   "cell_type": "markdown",
   "metadata": {},
   "source": [
    "#### SOLUTION ONE"
   ]
  },
  {
   "cell_type": "code",
   "execution_count": 4,
   "metadata": {},
   "outputs": [
    {
     "data": {
      "text/plain": [
       "array([[0, 0, 0, ..., 0, 1, 1],\n",
       "       [0, 0, 1, ..., 1, 1, 0],\n",
       "       [1, 0, 1, ..., 1, 1, 1],\n",
       "       ...,\n",
       "       [0, 1, 0, ..., 1, 1, 0],\n",
       "       [1, 0, 0, ..., 1, 1, 1],\n",
       "       [1, 0, 0, ..., 0, 1, 0]])"
      ]
     },
     "execution_count": 4,
     "metadata": {},
     "output_type": "execute_result"
    }
   ],
   "source": [
    "n_trials = nrows = 10_000\n",
    "n_coins = ncols = 8\n",
    "\n",
    "flips = np.random.choice([0,1], n_trials * n_coins).reshape(nrows, ncols)\n",
    "flips"
   ]
  },
  {
   "cell_type": "code",
   "execution_count": 5,
   "metadata": {},
   "outputs": [
    {
     "data": {
      "text/plain": [
       "array([3, 5, 6, ..., 3, 6, 2])"
      ]
     },
     "execution_count": 5,
     "metadata": {},
     "output_type": "execute_result"
    }
   ],
   "source": [
    "sums_by_trial = flips.sum(axis=1)\n",
    "sums_by_trial"
   ]
  },
  {
   "cell_type": "code",
   "execution_count": 6,
   "metadata": {},
   "outputs": [
    {
     "data": {
      "text/plain": [
       "array([ True, False, False, ...,  True, False, False])"
      ]
     },
     "execution_count": 6,
     "metadata": {},
     "output_type": "execute_result"
    }
   ],
   "source": [
    "exactly_3 = sums_by_trial == 3\n",
    "exactly_3"
   ]
  },
  {
   "cell_type": "code",
   "execution_count": 7,
   "metadata": {},
   "outputs": [
    {
     "name": "stdout",
     "output_type": "stream",
     "text": [
      "Based on a simulation of 10,000 trials of 8 consecutive coin flips, the probability of flipping exactly three heads is 0.2243.\n"
     ]
    }
   ],
   "source": [
    "exactly_3_rate = exactly_3.astype(int).mean()\n",
    "print(f\"Based on a simulation of 10,000 trials of 8 consecutive coin flips, the probability of flipping exactly three heads is {exactly_3_rate}.\")"
   ]
  },
  {
   "cell_type": "markdown",
   "metadata": {},
   "source": [
    "### What is the probability of getting more than 3 heads?"
   ]
  },
  {
   "cell_type": "code",
   "execution_count": null,
   "metadata": {},
   "outputs": [],
   "source": []
  },
  {
   "cell_type": "markdown",
   "metadata": {},
   "source": [
    "### There are approximitely 3 web development cohorts for every 1 data science cohort at Codeup. Assuming that Codeup randomly selects an alumni to put on a billboard, what are the odds that the two billboards I drive past both have data science students on them?"
   ]
  },
  {
   "cell_type": "markdown",
   "metadata": {},
   "source": [
    "#### SOLUTION ONE"
   ]
  },
  {
   "cell_type": "code",
   "execution_count": 8,
   "metadata": {},
   "outputs": [
    {
     "data": {
      "text/plain": [
       "array([[0.52367416, 0.30110826],\n",
       "       [0.22483308, 0.89903466],\n",
       "       [0.32563666, 0.01721882],\n",
       "       ...,\n",
       "       [0.46862724, 0.28377202],\n",
       "       [0.62598687, 0.95912283],\n",
       "       [0.44980969, 0.88367756]])"
      ]
     },
     "execution_count": 8,
     "metadata": {},
     "output_type": "execute_result"
    }
   ],
   "source": [
    "p_datasci = 0.25\n",
    "n_boards = n_cols = 2\n",
    "n_drives = n_rows = 10 ** 5\n",
    "\n",
    "data = np.random.random((n_rows, n_cols))\n",
    "data"
   ]
  },
  {
   "cell_type": "code",
   "execution_count": 9,
   "metadata": {},
   "outputs": [
    {
     "data": {
      "text/plain": [
       "array([[False, False],\n",
       "       [ True, False],\n",
       "       [False,  True],\n",
       "       ...,\n",
       "       [False, False],\n",
       "       [False, False],\n",
       "       [False, False]])"
      ]
     },
     "execution_count": 9,
     "metadata": {},
     "output_type": "execute_result"
    }
   ],
   "source": [
    "datasci_sighting = data < p_datasci\n",
    "datasci_sighting"
   ]
  },
  {
   "cell_type": "code",
   "execution_count": 10,
   "metadata": {},
   "outputs": [
    {
     "data": {
      "text/plain": [
       "array([0, 1, 1, ..., 0, 0, 0])"
      ]
     },
     "execution_count": 10,
     "metadata": {},
     "output_type": "execute_result"
    }
   ],
   "source": [
    "datasci_sighting.sum(axis=1)"
   ]
  },
  {
   "cell_type": "code",
   "execution_count": 11,
   "metadata": {
    "scrolled": true
   },
   "outputs": [
    {
     "name": "stdout",
     "output_type": "stream",
     "text": [
      "Based on 10,000 simulated drives by two billboards, the probability of both billboards containing data science students is 0.06325.\n"
     ]
    }
   ],
   "source": [
    "(datasci_sighting.sum(axis=1) >= 2).mean()\n",
    "print(f\"Based on 10,000 simulated drives by two billboards, the probability of both billboards containing data science students is {(datasci_sighting.sum(axis=1) >= 2).mean()}.\")"
   ]
  },
  {
   "cell_type": "markdown",
   "metadata": {},
   "source": [
    "#### SOLUTION TWO"
   ]
  },
  {
   "cell_type": "code",
   "execution_count": 56,
   "metadata": {},
   "outputs": [
    {
     "data": {
      "text/plain": [
       "array([['Web Dev', 'Web Dev'],\n",
       "       ['Web Dev', 'Web Dev'],\n",
       "       ['Web Dev', 'Web Dev'],\n",
       "       ...,\n",
       "       ['Data Science', 'Web Dev'],\n",
       "       ['Web Dev', 'Data Science'],\n",
       "       ['Data Science', 'Data Science']], dtype='<U12')"
      ]
     },
     "execution_count": 56,
     "metadata": {},
     "output_type": "execute_result"
    }
   ],
   "source": [
    "outcomes = np.random.choice(['Web Dev', 'Data Science'], size=(100_000,2),p=[.75,.25])\n",
    "outcomes"
   ]
  },
  {
   "cell_type": "code",
   "execution_count": 57,
   "metadata": {},
   "outputs": [
    {
     "data": {
      "text/html": [
       "<div>\n",
       "<style scoped>\n",
       "    .dataframe tbody tr th:only-of-type {\n",
       "        vertical-align: middle;\n",
       "    }\n",
       "\n",
       "    .dataframe tbody tr th {\n",
       "        vertical-align: top;\n",
       "    }\n",
       "\n",
       "    .dataframe thead th {\n",
       "        text-align: right;\n",
       "    }\n",
       "</style>\n",
       "<table border=\"1\" class=\"dataframe\">\n",
       "  <thead>\n",
       "    <tr style=\"text-align: right;\">\n",
       "      <th></th>\n",
       "      <th>first_billboard</th>\n",
       "      <th>second_billboard</th>\n",
       "    </tr>\n",
       "  </thead>\n",
       "  <tbody>\n",
       "    <tr>\n",
       "      <th>0</th>\n",
       "      <td>Web Dev</td>\n",
       "      <td>Web Dev</td>\n",
       "    </tr>\n",
       "    <tr>\n",
       "      <th>1</th>\n",
       "      <td>Web Dev</td>\n",
       "      <td>Web Dev</td>\n",
       "    </tr>\n",
       "    <tr>\n",
       "      <th>2</th>\n",
       "      <td>Web Dev</td>\n",
       "      <td>Web Dev</td>\n",
       "    </tr>\n",
       "    <tr>\n",
       "      <th>3</th>\n",
       "      <td>Web Dev</td>\n",
       "      <td>Web Dev</td>\n",
       "    </tr>\n",
       "    <tr>\n",
       "      <th>4</th>\n",
       "      <td>Data Science</td>\n",
       "      <td>Web Dev</td>\n",
       "    </tr>\n",
       "  </tbody>\n",
       "</table>\n",
       "</div>"
      ],
      "text/plain": [
       "  first_billboard second_billboard\n",
       "0         Web Dev          Web Dev\n",
       "1         Web Dev          Web Dev\n",
       "2         Web Dev          Web Dev\n",
       "3         Web Dev          Web Dev\n",
       "4    Data Science          Web Dev"
      ]
     },
     "execution_count": 57,
     "metadata": {},
     "output_type": "execute_result"
    }
   ],
   "source": [
    "df = pd.DataFrame(outcomes)\n",
    "df.columns = ['first_billboard','second_billboard']\n",
    "df.head()"
   ]
  },
  {
   "cell_type": "code",
   "execution_count": 59,
   "metadata": {},
   "outputs": [
    {
     "data": {
      "text/html": [
       "<div>\n",
       "<style scoped>\n",
       "    .dataframe tbody tr th:only-of-type {\n",
       "        vertical-align: middle;\n",
       "    }\n",
       "\n",
       "    .dataframe tbody tr th {\n",
       "        vertical-align: top;\n",
       "    }\n",
       "\n",
       "    .dataframe thead th {\n",
       "        text-align: right;\n",
       "    }\n",
       "</style>\n",
       "<table border=\"1\" class=\"dataframe\">\n",
       "  <thead>\n",
       "    <tr style=\"text-align: right;\">\n",
       "      <th></th>\n",
       "      <th>first_billboard</th>\n",
       "      <th>second_billboard</th>\n",
       "      <th>both_ds</th>\n",
       "    </tr>\n",
       "  </thead>\n",
       "  <tbody>\n",
       "    <tr>\n",
       "      <th>0</th>\n",
       "      <td>Web Dev</td>\n",
       "      <td>Web Dev</td>\n",
       "      <td>False</td>\n",
       "    </tr>\n",
       "    <tr>\n",
       "      <th>1</th>\n",
       "      <td>Web Dev</td>\n",
       "      <td>Web Dev</td>\n",
       "      <td>False</td>\n",
       "    </tr>\n",
       "    <tr>\n",
       "      <th>2</th>\n",
       "      <td>Web Dev</td>\n",
       "      <td>Web Dev</td>\n",
       "      <td>False</td>\n",
       "    </tr>\n",
       "    <tr>\n",
       "      <th>3</th>\n",
       "      <td>Web Dev</td>\n",
       "      <td>Web Dev</td>\n",
       "      <td>False</td>\n",
       "    </tr>\n",
       "    <tr>\n",
       "      <th>4</th>\n",
       "      <td>Data Science</td>\n",
       "      <td>Web Dev</td>\n",
       "      <td>False</td>\n",
       "    </tr>\n",
       "  </tbody>\n",
       "</table>\n",
       "</div>"
      ],
      "text/plain": [
       "  first_billboard second_billboard  both_ds\n",
       "0         Web Dev          Web Dev    False\n",
       "1         Web Dev          Web Dev    False\n",
       "2         Web Dev          Web Dev    False\n",
       "3         Web Dev          Web Dev    False\n",
       "4    Data Science          Web Dev    False"
      ]
     },
     "execution_count": 59,
     "metadata": {},
     "output_type": "execute_result"
    }
   ],
   "source": [
    "df['both_ds'] = (df.first_billboard == 'Data Science') & (df.second_billboard == 'Data Science')\n",
    "df.head()"
   ]
  },
  {
   "cell_type": "code",
   "execution_count": 60,
   "metadata": {},
   "outputs": [
    {
     "data": {
      "text/plain": [
       "0.06237"
      ]
     },
     "execution_count": 60,
     "metadata": {},
     "output_type": "execute_result"
    }
   ],
   "source": [
    "df.both_ds.mean()"
   ]
  },
  {
   "cell_type": "markdown",
   "metadata": {},
   "source": [
    "### Codeup students buy, on average, 3 poptart packages (+- 1.5) a day from the snack vending machine. If on monday the machine is restocked with 17 poptart packages, how likely is it that I will be able to buy some poptarts on Friday afternoon?"
   ]
  },
  {
   "cell_type": "markdown",
   "metadata": {},
   "source": [
    "#### SOLUTION ONE"
   ]
  },
  {
   "cell_type": "code",
   "execution_count": 80,
   "metadata": {},
   "outputs": [],
   "source": [
    "friday_stock = []\n",
    "for num in range(100000):\n",
    "    stock = 17\n",
    "    for n in range(5):\n",
    "        stock -= np.random.uniform(low=1.5, high=4.5)\n",
    "    friday_stock.append(stock)"
   ]
  },
  {
   "cell_type": "code",
   "execution_count": 81,
   "metadata": {},
   "outputs": [],
   "source": [
    "in_stock = []\n",
    "for stock in friday_stock:\n",
    "    if stock >= 1:\n",
    "        in_stock.append(1)\n",
    "    else:\n",
    "        in_stock.append(0)"
   ]
  },
  {
   "cell_type": "code",
   "execution_count": 82,
   "metadata": {},
   "outputs": [
    {
     "name": "stdout",
     "output_type": "stream",
     "text": [
      "Based on a simulation of 100,000 weeks, the chance that there is at least one pop tart remaining in stock after 5 days of purchases is 0.69309.\n"
     ]
    }
   ],
   "source": [
    "chance_for_tart = sum(in_stock)/len(in_stock)\n",
    "print(f\"Based on a simulation of 100,000 weeks, the chance that there is at least one pop tart remaining in stock after 5 days of purchases is {chance_for_tart}.\")"
   ]
  },
  {
   "cell_type": "markdown",
   "metadata": {},
   "source": [
    "#### SOLUTION TWO"
   ]
  },
  {
   "cell_type": "code",
   "execution_count": 91,
   "metadata": {},
   "outputs": [
    {
     "data": {
      "text/plain": [
       "array([[0.88713695, 1.60400263, 3.0448922 , 2.19999518, 3.32883595],\n",
       "       [4.16947469, 3.71485252, 0.1028198 , 6.6933165 , 4.55461116],\n",
       "       [2.69360966, 2.55759654, 4.89528635, 4.75820461, 1.4955688 ],\n",
       "       ...,\n",
       "       [6.67242957, 5.28491963, 3.80237457, 1.27471279, 3.57493706],\n",
       "       [3.08435568, 4.75916761, 1.06358817, 3.24141873, 2.57071955],\n",
       "       [5.36682103, 2.60149065, 1.22297659, 5.74352453, 1.38997594]])"
      ]
     },
     "execution_count": 91,
     "metadata": {},
     "output_type": "execute_result"
    }
   ],
   "source": [
    "poptarts = np.random.normal(3, 1.5, size=(100000,5))\n",
    "poptarts"
   ]
  },
  {
   "cell_type": "code",
   "execution_count": 92,
   "metadata": {},
   "outputs": [
    {
     "data": {
      "text/plain": [
       "array([1., 2., 1., 2., 1.])"
      ]
     },
     "execution_count": 92,
     "metadata": {},
     "output_type": "execute_result"
    }
   ],
   "source": [
    "poptarts = np.round(np.random.normal(3, 1.5, size=(100000,5)))\n",
    "poptarts[0]"
   ]
  },
  {
   "cell_type": "code",
   "execution_count": 93,
   "metadata": {},
   "outputs": [],
   "source": [
    "weekly_demand = poptarts.sum(axis=1)"
   ]
  },
  {
   "cell_type": "code",
   "execution_count": 94,
   "metadata": {},
   "outputs": [
    {
     "data": {
      "text/plain": [
       "0.66837"
      ]
     },
     "execution_count": 94,
     "metadata": {},
     "output_type": "execute_result"
    }
   ],
   "source": [
    "(weekly_demand <17).mean()"
   ]
  },
  {
   "cell_type": "markdown",
   "metadata": {},
   "source": [
    "### Compare Heights\n",
    "\n",
    "#### Men have an average height of 178 cm and standard deviation of 8cm.\n",
    "#### Women have a mean of 170, sd = 6cm.\n",
    "#### If a man and woman are chosen at random, P(woman taller than man)?"
   ]
  },
  {
   "cell_type": "code",
   "execution_count": 15,
   "metadata": {},
   "outputs": [],
   "source": [
    "man_height = np.random.normal(178, 8, size=(10000,1)).tolist()\n",
    "woman_height = np.random.normal(170,6, size=(10000,1)).tolist()"
   ]
  },
  {
   "cell_type": "code",
   "execution_count": 16,
   "metadata": {},
   "outputs": [],
   "source": [
    "woman_taller = []\n",
    "for i in range(len(man_height)):\n",
    "    if woman_height[i][0] > man_height[i][0]:\n",
    "        woman_taller.append(1)\n",
    "    else:\n",
    "        woman_taller.append(0)"
   ]
  },
  {
   "cell_type": "code",
   "execution_count": 17,
   "metadata": {},
   "outputs": [
    {
     "name": "stdout",
     "output_type": "stream",
     "text": [
      "After simulating 10,000 comparisons of a random woman to a random man, the probability that any given woman is taller than any given man is 0.2126.\n"
     ]
    }
   ],
   "source": [
    "chance_woman_taller = sum(woman_taller)/len(woman_taller)\n",
    "print(f\"After simulating 10,000 comparisons of a random woman to a random man, the probability that any given woman is taller than any given man is {chance_woman_taller}.\")"
   ]
  },
  {
   "cell_type": "markdown",
   "metadata": {},
   "source": [
    "#### SOLUTION TWO"
   ]
  },
  {
   "cell_type": "code",
   "execution_count": 97,
   "metadata": {},
   "outputs": [],
   "source": [
    "trials = 100000\n",
    "man_height = np.random.normal(178, 8, trials)\n",
    "woman_height = np.random.normal(170,6, trials)"
   ]
  },
  {
   "cell_type": "code",
   "execution_count": 98,
   "metadata": {},
   "outputs": [
    {
     "data": {
      "text/plain": [
       "array([False,  True, False, ...,  True,  True,  True])"
      ]
     },
     "execution_count": 98,
     "metadata": {},
     "output_type": "execute_result"
    }
   ],
   "source": [
    "(woman_height > man_height)"
   ]
  },
  {
   "cell_type": "code",
   "execution_count": 100,
   "metadata": {},
   "outputs": [
    {
     "data": {
      "text/plain": [
       "0.21256"
      ]
     },
     "execution_count": 100,
     "metadata": {},
     "output_type": "execute_result"
    }
   ],
   "source": [
    "(woman_height > man_height).mean()"
   ]
  },
  {
   "cell_type": "markdown",
   "metadata": {},
   "source": [
    "### When installing anaconda on a student's computer, there's a 1 in 250 chance that the download is corrupted and the installation fails. What are the odds that after having 50 students download anaconda, no one has an installation issue? \n",
    "\n",
    "#### SOLUTION ONE"
   ]
  },
  {
   "cell_type": "code",
   "execution_count": 18,
   "metadata": {},
   "outputs": [],
   "source": [
    "n_trials = 10000\n",
    "n_students = 50\n",
    "p_fail = 1/250\n",
    "\n",
    "installs = np.random.random((n_trials,n_students))"
   ]
  },
  {
   "cell_type": "code",
   "execution_count": 19,
   "metadata": {},
   "outputs": [
    {
     "data": {
      "text/plain": [
       "array([[False, False, False, ..., False,  True, False],\n",
       "       [False, False, False, ..., False, False, False],\n",
       "       [False, False, False, ..., False, False, False],\n",
       "       ...,\n",
       "       [False, False, False, ..., False, False, False],\n",
       "       [False, False, False, ..., False, False, False],\n",
       "       [False, False, False, ..., False, False, False]])"
      ]
     },
     "execution_count": 19,
     "metadata": {},
     "output_type": "execute_result"
    }
   ],
   "source": [
    "install_failure = installs < p_fail\n",
    "install_failure"
   ]
  },
  {
   "cell_type": "code",
   "execution_count": 20,
   "metadata": {},
   "outputs": [
    {
     "data": {
      "text/plain": [
       "array([ True, False, False, ...,  True, False,  True])"
      ]
     },
     "execution_count": 20,
     "metadata": {},
     "output_type": "execute_result"
    }
   ],
   "source": [
    "(install_failure.sum(axis=1) >= 1)"
   ]
  },
  {
   "cell_type": "code",
   "execution_count": 21,
   "metadata": {},
   "outputs": [
    {
     "name": "stdout",
     "output_type": "stream",
     "text": [
      "After running 10,000 simulations, the probability that there are no failures in a group of 50 students: 0.8148\n"
     ]
    }
   ],
   "source": [
    "print(f\"After running 10,000 simulations, the probability that there are no failures in a group of 50 students: {1-(install_failure.sum(axis=1)>=1).mean()}\")"
   ]
  },
  {
   "cell_type": "markdown",
   "metadata": {},
   "source": [
    "#### SOLUTION TWO"
   ]
  },
  {
   "cell_type": "code",
   "execution_count": 103,
   "metadata": {},
   "outputs": [
    {
     "data": {
      "text/html": [
       "<div>\n",
       "<style scoped>\n",
       "    .dataframe tbody tr th:only-of-type {\n",
       "        vertical-align: middle;\n",
       "    }\n",
       "\n",
       "    .dataframe tbody tr th {\n",
       "        vertical-align: top;\n",
       "    }\n",
       "\n",
       "    .dataframe thead th {\n",
       "        text-align: right;\n",
       "    }\n",
       "</style>\n",
       "<table border=\"1\" class=\"dataframe\">\n",
       "  <thead>\n",
       "    <tr style=\"text-align: right;\">\n",
       "      <th></th>\n",
       "      <th>0</th>\n",
       "      <th>1</th>\n",
       "      <th>2</th>\n",
       "      <th>3</th>\n",
       "      <th>4</th>\n",
       "      <th>5</th>\n",
       "      <th>6</th>\n",
       "      <th>7</th>\n",
       "      <th>8</th>\n",
       "      <th>9</th>\n",
       "      <th>...</th>\n",
       "      <th>40</th>\n",
       "      <th>41</th>\n",
       "      <th>42</th>\n",
       "      <th>43</th>\n",
       "      <th>44</th>\n",
       "      <th>45</th>\n",
       "      <th>46</th>\n",
       "      <th>47</th>\n",
       "      <th>48</th>\n",
       "      <th>49</th>\n",
       "    </tr>\n",
       "  </thead>\n",
       "  <tbody>\n",
       "    <tr>\n",
       "      <th>0</th>\n",
       "      <td>1</td>\n",
       "      <td>1</td>\n",
       "      <td>1</td>\n",
       "      <td>1</td>\n",
       "      <td>1</td>\n",
       "      <td>1</td>\n",
       "      <td>1</td>\n",
       "      <td>1</td>\n",
       "      <td>1</td>\n",
       "      <td>1</td>\n",
       "      <td>...</td>\n",
       "      <td>1</td>\n",
       "      <td>1</td>\n",
       "      <td>1</td>\n",
       "      <td>1</td>\n",
       "      <td>1</td>\n",
       "      <td>1</td>\n",
       "      <td>1</td>\n",
       "      <td>1</td>\n",
       "      <td>1</td>\n",
       "      <td>1</td>\n",
       "    </tr>\n",
       "    <tr>\n",
       "      <th>1</th>\n",
       "      <td>1</td>\n",
       "      <td>1</td>\n",
       "      <td>1</td>\n",
       "      <td>1</td>\n",
       "      <td>1</td>\n",
       "      <td>1</td>\n",
       "      <td>1</td>\n",
       "      <td>1</td>\n",
       "      <td>1</td>\n",
       "      <td>1</td>\n",
       "      <td>...</td>\n",
       "      <td>1</td>\n",
       "      <td>1</td>\n",
       "      <td>1</td>\n",
       "      <td>1</td>\n",
       "      <td>1</td>\n",
       "      <td>1</td>\n",
       "      <td>1</td>\n",
       "      <td>1</td>\n",
       "      <td>1</td>\n",
       "      <td>1</td>\n",
       "    </tr>\n",
       "    <tr>\n",
       "      <th>2</th>\n",
       "      <td>1</td>\n",
       "      <td>1</td>\n",
       "      <td>1</td>\n",
       "      <td>0</td>\n",
       "      <td>1</td>\n",
       "      <td>1</td>\n",
       "      <td>1</td>\n",
       "      <td>1</td>\n",
       "      <td>1</td>\n",
       "      <td>1</td>\n",
       "      <td>...</td>\n",
       "      <td>1</td>\n",
       "      <td>1</td>\n",
       "      <td>1</td>\n",
       "      <td>1</td>\n",
       "      <td>1</td>\n",
       "      <td>1</td>\n",
       "      <td>1</td>\n",
       "      <td>1</td>\n",
       "      <td>1</td>\n",
       "      <td>1</td>\n",
       "    </tr>\n",
       "    <tr>\n",
       "      <th>3</th>\n",
       "      <td>1</td>\n",
       "      <td>1</td>\n",
       "      <td>1</td>\n",
       "      <td>1</td>\n",
       "      <td>0</td>\n",
       "      <td>1</td>\n",
       "      <td>1</td>\n",
       "      <td>1</td>\n",
       "      <td>1</td>\n",
       "      <td>1</td>\n",
       "      <td>...</td>\n",
       "      <td>1</td>\n",
       "      <td>1</td>\n",
       "      <td>1</td>\n",
       "      <td>1</td>\n",
       "      <td>1</td>\n",
       "      <td>1</td>\n",
       "      <td>1</td>\n",
       "      <td>1</td>\n",
       "      <td>1</td>\n",
       "      <td>1</td>\n",
       "    </tr>\n",
       "    <tr>\n",
       "      <th>4</th>\n",
       "      <td>1</td>\n",
       "      <td>1</td>\n",
       "      <td>1</td>\n",
       "      <td>1</td>\n",
       "      <td>1</td>\n",
       "      <td>1</td>\n",
       "      <td>1</td>\n",
       "      <td>1</td>\n",
       "      <td>1</td>\n",
       "      <td>1</td>\n",
       "      <td>...</td>\n",
       "      <td>1</td>\n",
       "      <td>1</td>\n",
       "      <td>1</td>\n",
       "      <td>1</td>\n",
       "      <td>1</td>\n",
       "      <td>1</td>\n",
       "      <td>1</td>\n",
       "      <td>1</td>\n",
       "      <td>1</td>\n",
       "      <td>1</td>\n",
       "    </tr>\n",
       "  </tbody>\n",
       "</table>\n",
       "<p>5 rows × 50 columns</p>\n",
       "</div>"
      ],
      "text/plain": [
       "   0   1   2   3   4   5   6   7   8   9   ...  40  41  42  43  44  45  46  \\\n",
       "0   1   1   1   1   1   1   1   1   1   1  ...   1   1   1   1   1   1   1   \n",
       "1   1   1   1   1   1   1   1   1   1   1  ...   1   1   1   1   1   1   1   \n",
       "2   1   1   1   0   1   1   1   1   1   1  ...   1   1   1   1   1   1   1   \n",
       "3   1   1   1   1   0   1   1   1   1   1  ...   1   1   1   1   1   1   1   \n",
       "4   1   1   1   1   1   1   1   1   1   1  ...   1   1   1   1   1   1   1   \n",
       "\n",
       "   47  48  49  \n",
       "0   1   1   1  \n",
       "1   1   1   1  \n",
       "2   1   1   1  \n",
       "3   1   1   1  \n",
       "4   1   1   1  \n",
       "\n",
       "[5 rows x 50 columns]"
      ]
     },
     "execution_count": 103,
     "metadata": {},
     "output_type": "execute_result"
    }
   ],
   "source": [
    "trials = 100_000\n",
    "students_per_trial = 50\n",
    "# 0 is fail, 1 is success\n",
    "installs = np.random.choice([0,1], size = (trials, students_per_trial),p=[1/250,249/250])\n",
    "df = pd.DataFrame(installs)\n",
    "df.head()"
   ]
  },
  {
   "cell_type": "code",
   "execution_count": 105,
   "metadata": {},
   "outputs": [
    {
     "data": {
      "text/html": [
       "<div>\n",
       "<style scoped>\n",
       "    .dataframe tbody tr th:only-of-type {\n",
       "        vertical-align: middle;\n",
       "    }\n",
       "\n",
       "    .dataframe tbody tr th {\n",
       "        vertical-align: top;\n",
       "    }\n",
       "\n",
       "    .dataframe thead th {\n",
       "        text-align: right;\n",
       "    }\n",
       "</style>\n",
       "<table border=\"1\" class=\"dataframe\">\n",
       "  <thead>\n",
       "    <tr style=\"text-align: right;\">\n",
       "      <th></th>\n",
       "      <th>0</th>\n",
       "      <th>1</th>\n",
       "      <th>2</th>\n",
       "      <th>3</th>\n",
       "      <th>4</th>\n",
       "      <th>5</th>\n",
       "      <th>6</th>\n",
       "      <th>7</th>\n",
       "      <th>8</th>\n",
       "      <th>9</th>\n",
       "      <th>...</th>\n",
       "      <th>41</th>\n",
       "      <th>42</th>\n",
       "      <th>43</th>\n",
       "      <th>44</th>\n",
       "      <th>45</th>\n",
       "      <th>46</th>\n",
       "      <th>47</th>\n",
       "      <th>48</th>\n",
       "      <th>49</th>\n",
       "      <th>all_good</th>\n",
       "    </tr>\n",
       "  </thead>\n",
       "  <tbody>\n",
       "    <tr>\n",
       "      <th>0</th>\n",
       "      <td>1</td>\n",
       "      <td>1</td>\n",
       "      <td>1</td>\n",
       "      <td>1</td>\n",
       "      <td>1</td>\n",
       "      <td>1</td>\n",
       "      <td>1</td>\n",
       "      <td>1</td>\n",
       "      <td>1</td>\n",
       "      <td>1</td>\n",
       "      <td>...</td>\n",
       "      <td>1</td>\n",
       "      <td>1</td>\n",
       "      <td>1</td>\n",
       "      <td>1</td>\n",
       "      <td>1</td>\n",
       "      <td>1</td>\n",
       "      <td>1</td>\n",
       "      <td>1</td>\n",
       "      <td>1</td>\n",
       "      <td>True</td>\n",
       "    </tr>\n",
       "    <tr>\n",
       "      <th>1</th>\n",
       "      <td>1</td>\n",
       "      <td>1</td>\n",
       "      <td>1</td>\n",
       "      <td>1</td>\n",
       "      <td>1</td>\n",
       "      <td>1</td>\n",
       "      <td>1</td>\n",
       "      <td>1</td>\n",
       "      <td>1</td>\n",
       "      <td>1</td>\n",
       "      <td>...</td>\n",
       "      <td>1</td>\n",
       "      <td>1</td>\n",
       "      <td>1</td>\n",
       "      <td>1</td>\n",
       "      <td>1</td>\n",
       "      <td>1</td>\n",
       "      <td>1</td>\n",
       "      <td>1</td>\n",
       "      <td>1</td>\n",
       "      <td>True</td>\n",
       "    </tr>\n",
       "    <tr>\n",
       "      <th>2</th>\n",
       "      <td>1</td>\n",
       "      <td>1</td>\n",
       "      <td>1</td>\n",
       "      <td>0</td>\n",
       "      <td>1</td>\n",
       "      <td>1</td>\n",
       "      <td>1</td>\n",
       "      <td>1</td>\n",
       "      <td>1</td>\n",
       "      <td>1</td>\n",
       "      <td>...</td>\n",
       "      <td>1</td>\n",
       "      <td>1</td>\n",
       "      <td>1</td>\n",
       "      <td>1</td>\n",
       "      <td>1</td>\n",
       "      <td>1</td>\n",
       "      <td>1</td>\n",
       "      <td>1</td>\n",
       "      <td>1</td>\n",
       "      <td>False</td>\n",
       "    </tr>\n",
       "    <tr>\n",
       "      <th>3</th>\n",
       "      <td>1</td>\n",
       "      <td>1</td>\n",
       "      <td>1</td>\n",
       "      <td>1</td>\n",
       "      <td>0</td>\n",
       "      <td>1</td>\n",
       "      <td>1</td>\n",
       "      <td>1</td>\n",
       "      <td>1</td>\n",
       "      <td>1</td>\n",
       "      <td>...</td>\n",
       "      <td>1</td>\n",
       "      <td>1</td>\n",
       "      <td>1</td>\n",
       "      <td>1</td>\n",
       "      <td>1</td>\n",
       "      <td>1</td>\n",
       "      <td>1</td>\n",
       "      <td>1</td>\n",
       "      <td>1</td>\n",
       "      <td>False</td>\n",
       "    </tr>\n",
       "    <tr>\n",
       "      <th>4</th>\n",
       "      <td>1</td>\n",
       "      <td>1</td>\n",
       "      <td>1</td>\n",
       "      <td>1</td>\n",
       "      <td>1</td>\n",
       "      <td>1</td>\n",
       "      <td>1</td>\n",
       "      <td>1</td>\n",
       "      <td>1</td>\n",
       "      <td>1</td>\n",
       "      <td>...</td>\n",
       "      <td>1</td>\n",
       "      <td>1</td>\n",
       "      <td>1</td>\n",
       "      <td>1</td>\n",
       "      <td>1</td>\n",
       "      <td>1</td>\n",
       "      <td>1</td>\n",
       "      <td>1</td>\n",
       "      <td>1</td>\n",
       "      <td>True</td>\n",
       "    </tr>\n",
       "  </tbody>\n",
       "</table>\n",
       "<p>5 rows × 51 columns</p>\n",
       "</div>"
      ],
      "text/plain": [
       "   0  1  2  3  4  5  6  7  8  9  ...  41  42  43  44  45  46  47  48  49  \\\n",
       "0  1  1  1  1  1  1  1  1  1  1  ...   1   1   1   1   1   1   1   1   1   \n",
       "1  1  1  1  1  1  1  1  1  1  1  ...   1   1   1   1   1   1   1   1   1   \n",
       "2  1  1  1  0  1  1  1  1  1  1  ...   1   1   1   1   1   1   1   1   1   \n",
       "3  1  1  1  1  0  1  1  1  1  1  ...   1   1   1   1   1   1   1   1   1   \n",
       "4  1  1  1  1  1  1  1  1  1  1  ...   1   1   1   1   1   1   1   1   1   \n",
       "\n",
       "   all_good  \n",
       "0      True  \n",
       "1      True  \n",
       "2     False  \n",
       "3     False  \n",
       "4      True  \n",
       "\n",
       "[5 rows x 51 columns]"
      ]
     },
     "execution_count": 105,
     "metadata": {},
     "output_type": "execute_result"
    }
   ],
   "source": [
    "# If the sum of all the successess (1) equals the number of students in the trial, then the trial was 100% success\n",
    "df['all_good'] = df.sum(axis=1) == students_per_trial\n",
    "df.head()"
   ]
  },
  {
   "cell_type": "code",
   "execution_count": 106,
   "metadata": {},
   "outputs": [
    {
     "data": {
      "text/plain": [
       "0.8182"
      ]
     },
     "execution_count": 106,
     "metadata": {},
     "output_type": "execute_result"
    }
   ],
   "source": [
    "df.all_good.mean()"
   ]
  },
  {
   "cell_type": "markdown",
   "metadata": {},
   "source": [
    "### 100 students?"
   ]
  },
  {
   "cell_type": "code",
   "execution_count": 107,
   "metadata": {},
   "outputs": [
    {
     "name": "stdout",
     "output_type": "stream",
     "text": [
      "After running 10,000 simulations, the probability that there are no failures in a group of 100 students: 0.6680200000000001\n"
     ]
    }
   ],
   "source": [
    "n_students = 100\n",
    "installs = np.random.random((n_trials,n_students))\n",
    "install_failure = installs < p_fail\n",
    "print(f\"After running 10,000 simulations, the probability that there are no failures in a group of 100 students: {1-(install_failure.sum(axis=1)>=1).mean()}\")"
   ]
  },
  {
   "cell_type": "markdown",
   "metadata": {},
   "source": [
    "### What is the probability that we observe an installation issue within the first 150 students that download anaconda?"
   ]
  },
  {
   "cell_type": "code",
   "execution_count": 110,
   "metadata": {},
   "outputs": [
    {
     "name": "stdout",
     "output_type": "stream",
     "text": [
      "After running 10,000 simulations, the probability that there are no failures in a group of 150 students: 0.45015\n"
     ]
    }
   ],
   "source": [
    "n_students = 150\n",
    "installs = np.random.random((n_trials,n_students))\n",
    "install_failure = installs < p_fail\n",
    "print(f\"After running 10,000 simulations, the probability that there are no failures in a group of 150 students: {(install_failure.sum(axis=1)>=1).mean()}\")"
   ]
  },
  {
   "cell_type": "code",
   "execution_count": 109,
   "metadata": {},
   "outputs": [
    {
     "data": {
      "text/plain": [
       "0.5481516977496729"
      ]
     },
     "execution_count": 109,
     "metadata": {},
     "output_type": "execute_result"
    }
   ],
   "source": [
    "(249/250)**150"
   ]
  },
  {
   "cell_type": "markdown",
   "metadata": {},
   "source": [
    "### How likely is it that 450 students all download anaconda without an issue?"
   ]
  },
  {
   "cell_type": "code",
   "execution_count": 24,
   "metadata": {},
   "outputs": [
    {
     "name": "stdout",
     "output_type": "stream",
     "text": [
      "After running 10,000 simulations, the probability that there are no failures in a group of 450 students: 0.16879999999999995\n"
     ]
    }
   ],
   "source": [
    "n_students = 450\n",
    "installs = np.random.random((n_trials,n_students))\n",
    "install_failure = installs < p_fail\n",
    "print(f\"After running 10,000 simulations, the probability that there are no failures in a group of 450 students: {1-(install_failure.sum(axis=1)>=1).mean()}\")"
   ]
  },
  {
   "cell_type": "markdown",
   "metadata": {},
   "source": [
    "### There's a 70% chance on any given day that there will be at least one food truck at Travis Park. However, you haven't seen a food truck there in 3 days. How unlikely is this?"
   ]
  },
  {
   "cell_type": "code",
   "execution_count": 25,
   "metadata": {},
   "outputs": [
    {
     "data": {
      "text/plain": [
       "array([[0.85769224, 0.80032733, 0.71057881],\n",
       "       [0.49072275, 0.20748525, 0.43164126],\n",
       "       [0.9754546 , 0.48757196, 0.68411212],\n",
       "       ...,\n",
       "       [0.72868148, 0.43491399, 0.25175779],\n",
       "       [0.95673347, 0.83199687, 0.67132019],\n",
       "       [0.97338735, 0.03091319, 0.48831878]])"
      ]
     },
     "execution_count": 25,
     "metadata": {},
     "output_type": "execute_result"
    }
   ],
   "source": [
    "p_food = .70\n",
    "n_trials = 10000\n",
    "n_days = 3\n",
    "\n",
    "food_truck = np.random.random((n_trials, n_days))\n",
    "food_truck"
   ]
  },
  {
   "cell_type": "code",
   "execution_count": 26,
   "metadata": {},
   "outputs": [
    {
     "data": {
      "text/plain": [
       "array([[False, False, False],\n",
       "       [ True,  True,  True],\n",
       "       [False,  True,  True],\n",
       "       ...,\n",
       "       [False,  True,  True],\n",
       "       [False, False,  True],\n",
       "       [False,  True,  True]])"
      ]
     },
     "execution_count": 26,
     "metadata": {},
     "output_type": "execute_result"
    }
   ],
   "source": [
    "food_truck_present = food_truck < p_food\n",
    "food_truck_present"
   ]
  },
  {
   "cell_type": "code",
   "execution_count": 27,
   "metadata": {},
   "outputs": [
    {
     "data": {
      "text/plain": [
       "array([ True, False, False, ..., False, False, False])"
      ]
     },
     "execution_count": 27,
     "metadata": {},
     "output_type": "execute_result"
    }
   ],
   "source": [
    "(food_truck_present.sum(axis=1) == 0)"
   ]
  },
  {
   "cell_type": "code",
   "execution_count": 28,
   "metadata": {},
   "outputs": [
    {
     "data": {
      "text/plain": [
       "0.0278"
      ]
     },
     "execution_count": 28,
     "metadata": {},
     "output_type": "execute_result"
    }
   ],
   "source": [
    "no_food_3_days = (food_truck_present.sum(axis=1) == 0).mean()\n",
    "no_food_3_days"
   ]
  },
  {
   "cell_type": "code",
   "execution_count": 29,
   "metadata": {},
   "outputs": [
    {
     "name": "stdout",
     "output_type": "stream",
     "text": [
      "After 10,000 simulations, the probability that there would be no food truck for all 3 days: 0.0278\n"
     ]
    }
   ],
   "source": [
    "print(f\"After 10,000 simulations, the probability that there would be no food truck for all 3 days: {no_food_3_days}\")"
   ]
  },
  {
   "cell_type": "markdown",
   "metadata": {},
   "source": [
    "#### SOLUTION TWO"
   ]
  },
  {
   "cell_type": "code",
   "execution_count": 113,
   "metadata": {},
   "outputs": [
    {
     "data": {
      "text/html": [
       "<div>\n",
       "<style scoped>\n",
       "    .dataframe tbody tr th:only-of-type {\n",
       "        vertical-align: middle;\n",
       "    }\n",
       "\n",
       "    .dataframe tbody tr th {\n",
       "        vertical-align: top;\n",
       "    }\n",
       "\n",
       "    .dataframe thead th {\n",
       "        text-align: right;\n",
       "    }\n",
       "</style>\n",
       "<table border=\"1\" class=\"dataframe\">\n",
       "  <thead>\n",
       "    <tr style=\"text-align: right;\">\n",
       "      <th></th>\n",
       "      <th>day_1</th>\n",
       "      <th>day_2</th>\n",
       "      <th>day_3</th>\n",
       "    </tr>\n",
       "  </thead>\n",
       "  <tbody>\n",
       "    <tr>\n",
       "      <th>0</th>\n",
       "      <td>1</td>\n",
       "      <td>0</td>\n",
       "      <td>1</td>\n",
       "    </tr>\n",
       "    <tr>\n",
       "      <th>1</th>\n",
       "      <td>1</td>\n",
       "      <td>0</td>\n",
       "      <td>1</td>\n",
       "    </tr>\n",
       "    <tr>\n",
       "      <th>2</th>\n",
       "      <td>1</td>\n",
       "      <td>1</td>\n",
       "      <td>1</td>\n",
       "    </tr>\n",
       "    <tr>\n",
       "      <th>3</th>\n",
       "      <td>0</td>\n",
       "      <td>1</td>\n",
       "      <td>0</td>\n",
       "    </tr>\n",
       "    <tr>\n",
       "      <th>4</th>\n",
       "      <td>1</td>\n",
       "      <td>1</td>\n",
       "      <td>0</td>\n",
       "    </tr>\n",
       "  </tbody>\n",
       "</table>\n",
       "</div>"
      ],
      "text/plain": [
       "   day_1  day_2  day_3\n",
       "0      1      0      1\n",
       "1      1      0      1\n",
       "2      1      1      1\n",
       "3      0      1      0\n",
       "4      1      1      0"
      ]
     },
     "execution_count": 113,
     "metadata": {},
     "output_type": "execute_result"
    }
   ],
   "source": [
    "#1 is a truck, 0 is no truck\n",
    "trucks = np.random.choice([1,0], size=(100000,3),p=[.7,.3])\n",
    "df = pd.DataFrame(trucks)\n",
    "df.columns = ['day_1', 'day_2', 'day_3']\n",
    "df.head()"
   ]
  },
  {
   "cell_type": "code",
   "execution_count": 114,
   "metadata": {},
   "outputs": [
    {
     "data": {
      "text/plain": [
       "0.026999999999999996"
      ]
     },
     "execution_count": 114,
     "metadata": {},
     "output_type": "execute_result"
    }
   ],
   "source": [
    "#Theoretical probablity of seeing no food trucks across all 3 days\n",
    ".3 ** 3"
   ]
  },
  {
   "cell_type": "code",
   "execution_count": 115,
   "metadata": {},
   "outputs": [
    {
     "data": {
      "text/html": [
       "<div>\n",
       "<style scoped>\n",
       "    .dataframe tbody tr th:only-of-type {\n",
       "        vertical-align: middle;\n",
       "    }\n",
       "\n",
       "    .dataframe tbody tr th {\n",
       "        vertical-align: top;\n",
       "    }\n",
       "\n",
       "    .dataframe thead th {\n",
       "        text-align: right;\n",
       "    }\n",
       "</style>\n",
       "<table border=\"1\" class=\"dataframe\">\n",
       "  <thead>\n",
       "    <tr style=\"text-align: right;\">\n",
       "      <th></th>\n",
       "      <th>day_1</th>\n",
       "      <th>day_2</th>\n",
       "      <th>day_3</th>\n",
       "      <th>appearances</th>\n",
       "    </tr>\n",
       "  </thead>\n",
       "  <tbody>\n",
       "    <tr>\n",
       "      <th>0</th>\n",
       "      <td>1</td>\n",
       "      <td>0</td>\n",
       "      <td>1</td>\n",
       "      <td>2</td>\n",
       "    </tr>\n",
       "    <tr>\n",
       "      <th>1</th>\n",
       "      <td>1</td>\n",
       "      <td>0</td>\n",
       "      <td>1</td>\n",
       "      <td>2</td>\n",
       "    </tr>\n",
       "    <tr>\n",
       "      <th>2</th>\n",
       "      <td>1</td>\n",
       "      <td>1</td>\n",
       "      <td>1</td>\n",
       "      <td>3</td>\n",
       "    </tr>\n",
       "    <tr>\n",
       "      <th>3</th>\n",
       "      <td>0</td>\n",
       "      <td>1</td>\n",
       "      <td>0</td>\n",
       "      <td>1</td>\n",
       "    </tr>\n",
       "    <tr>\n",
       "      <th>4</th>\n",
       "      <td>1</td>\n",
       "      <td>1</td>\n",
       "      <td>0</td>\n",
       "      <td>2</td>\n",
       "    </tr>\n",
       "  </tbody>\n",
       "</table>\n",
       "</div>"
      ],
      "text/plain": [
       "   day_1  day_2  day_3  appearances\n",
       "0      1      0      1            2\n",
       "1      1      0      1            2\n",
       "2      1      1      1            3\n",
       "3      0      1      0            1\n",
       "4      1      1      0            2"
      ]
     },
     "execution_count": 115,
     "metadata": {},
     "output_type": "execute_result"
    }
   ],
   "source": [
    "df['appearances'] = df.sum(axis=1)\n",
    "df.head()"
   ]
  },
  {
   "cell_type": "code",
   "execution_count": 116,
   "metadata": {},
   "outputs": [
    {
     "data": {
      "text/plain": [
       "0.02776"
      ]
     },
     "execution_count": 116,
     "metadata": {},
     "output_type": "execute_result"
    }
   ],
   "source": [
    "(df.appearances == 0).mean()"
   ]
  },
  {
   "cell_type": "markdown",
   "metadata": {},
   "source": [
    "### How likely is it that a food truck will show up sometime this week?"
   ]
  },
  {
   "cell_type": "code",
   "execution_count": 30,
   "metadata": {},
   "outputs": [
    {
     "data": {
      "text/plain": [
       "array([[0.82362966, 0.48518064, 0.59832284, ..., 0.36197704, 0.35796501,\n",
       "        0.21457426],\n",
       "       [0.67455267, 0.32256746, 0.93606459, ..., 0.2946364 , 0.48016794,\n",
       "        0.92708789],\n",
       "       [0.84056316, 0.21086955, 0.17370007, ..., 0.81261892, 0.52686485,\n",
       "        0.01686217],\n",
       "       ...,\n",
       "       [0.94971857, 0.44650045, 0.80551779, ..., 0.76847661, 0.10800821,\n",
       "        0.42607581],\n",
       "       [0.65066617, 0.76981336, 0.06679755, ..., 0.95101963, 0.94136017,\n",
       "        0.69983771],\n",
       "       [0.56952336, 0.18027006, 0.82738404, ..., 0.54219219, 0.03063603,\n",
       "        0.83949336]])"
      ]
     },
     "execution_count": 30,
     "metadata": {},
     "output_type": "execute_result"
    }
   ],
   "source": [
    "p_food = .70\n",
    "n_trials = 10000\n",
    "n_days = 7\n",
    "\n",
    "food_truck = np.random.random((n_trials, n_days))\n",
    "food_truck"
   ]
  },
  {
   "cell_type": "code",
   "execution_count": 31,
   "metadata": {},
   "outputs": [
    {
     "data": {
      "text/plain": [
       "array([[False,  True,  True, ...,  True,  True,  True],\n",
       "       [ True,  True, False, ...,  True,  True, False],\n",
       "       [False,  True,  True, ..., False,  True,  True],\n",
       "       ...,\n",
       "       [False,  True, False, ..., False,  True,  True],\n",
       "       [ True, False,  True, ..., False, False,  True],\n",
       "       [ True,  True, False, ...,  True,  True, False]])"
      ]
     },
     "execution_count": 31,
     "metadata": {},
     "output_type": "execute_result"
    }
   ],
   "source": [
    "food_truck_present = food_truck < p_food\n",
    "food_truck_present"
   ]
  },
  {
   "cell_type": "code",
   "execution_count": 32,
   "metadata": {},
   "outputs": [
    {
     "data": {
      "text/plain": [
       "array([ True,  True,  True, ...,  True,  True,  True])"
      ]
     },
     "execution_count": 32,
     "metadata": {},
     "output_type": "execute_result"
    }
   ],
   "source": [
    "(food_truck_present.sum(axis=1) >= 1)"
   ]
  },
  {
   "cell_type": "code",
   "execution_count": 33,
   "metadata": {},
   "outputs": [
    {
     "data": {
      "text/plain": [
       "0.9998"
      ]
     },
     "execution_count": 33,
     "metadata": {},
     "output_type": "execute_result"
    }
   ],
   "source": [
    "at_least_1_food_7_days = (food_truck_present.sum(axis=1) >= 1).mean()\n",
    "at_least_1_food_7_days"
   ]
  },
  {
   "cell_type": "code",
   "execution_count": 34,
   "metadata": {},
   "outputs": [
    {
     "name": "stdout",
     "output_type": "stream",
     "text": [
      "The probability that there will be at least one food truck present at some point during any given week: 0.9998\n"
     ]
    }
   ],
   "source": [
    "print(f\"The probability that there will be at least one food truck present at some point during any given week: {at_least_1_food_7_days}\")"
   ]
  },
  {
   "cell_type": "markdown",
   "metadata": {},
   "source": [
    "### If 23 people are in the same room, what are the odds that two of them share a birthday?"
   ]
  },
  {
   "cell_type": "code",
   "execution_count": 35,
   "metadata": {},
   "outputs": [
    {
     "data": {
      "text/plain": [
       "array([[ 87, 165, 326, ..., 133, 256, 316],\n",
       "       [ 63, 110, 176, ..., 304,   2,  80],\n",
       "       [222, 232,  97, ..., 355, 152, 117],\n",
       "       ...,\n",
       "       [334, 115, 357, ..., 253,  37, 168],\n",
       "       [127, 304, 102, ..., 352,  74, 130],\n",
       "       [223, 291, 127, ...,  19, 120, 142]])"
      ]
     },
     "execution_count": 35,
     "metadata": {},
     "output_type": "execute_result"
    }
   ],
   "source": [
    "birthdays = list(range(1,366))\n",
    "n_trials = 10_000\n",
    "n_students = 23\n",
    "\n",
    "rooms = np.random.choice(birthdays,n_trials * n_students).reshape(n_trials, n_students)\n",
    "rooms"
   ]
  },
  {
   "cell_type": "code",
   "execution_count": 36,
   "metadata": {},
   "outputs": [
    {
     "name": "stdout",
     "output_type": "stream",
     "text": [
      "Based on 10,000 simulations, in a room of 23 people, assuming perfectly equal distribution among birthdays, the probability that there is at least one shared birthday: 0.5055\n"
     ]
    }
   ],
   "source": [
    "matches = []\n",
    "for room in rooms:\n",
    "    if len(set(room)) != len(room):\n",
    "        matches.append(1)\n",
    "    else:\n",
    "        matches.append(0)\n",
    "        \n",
    "percent_matches = sum(matches)/len(matches)\n",
    "print(f\"Based on 10,000 simulations, in a room of 23 people, assuming perfectly equal distribution among birthdays, the probability that there is at least one shared birthday: {percent_matches}\")"
   ]
  },
  {
   "cell_type": "markdown",
   "metadata": {},
   "source": [
    "#### SOLUTION TWO"
   ]
  },
  {
   "cell_type": "code",
   "execution_count": 117,
   "metadata": {},
   "outputs": [
    {
     "data": {
      "text/html": [
       "<div>\n",
       "<style scoped>\n",
       "    .dataframe tbody tr th:only-of-type {\n",
       "        vertical-align: middle;\n",
       "    }\n",
       "\n",
       "    .dataframe tbody tr th {\n",
       "        vertical-align: top;\n",
       "    }\n",
       "\n",
       "    .dataframe thead th {\n",
       "        text-align: right;\n",
       "    }\n",
       "</style>\n",
       "<table border=\"1\" class=\"dataframe\">\n",
       "  <thead>\n",
       "    <tr style=\"text-align: right;\">\n",
       "      <th></th>\n",
       "      <th>0</th>\n",
       "      <th>1</th>\n",
       "      <th>2</th>\n",
       "      <th>3</th>\n",
       "      <th>4</th>\n",
       "      <th>5</th>\n",
       "      <th>6</th>\n",
       "      <th>7</th>\n",
       "      <th>8</th>\n",
       "      <th>9</th>\n",
       "      <th>...</th>\n",
       "      <th>13</th>\n",
       "      <th>14</th>\n",
       "      <th>15</th>\n",
       "      <th>16</th>\n",
       "      <th>17</th>\n",
       "      <th>18</th>\n",
       "      <th>19</th>\n",
       "      <th>20</th>\n",
       "      <th>21</th>\n",
       "      <th>22</th>\n",
       "    </tr>\n",
       "  </thead>\n",
       "  <tbody>\n",
       "    <tr>\n",
       "      <th>0</th>\n",
       "      <td>89</td>\n",
       "      <td>119</td>\n",
       "      <td>48</td>\n",
       "      <td>342</td>\n",
       "      <td>357</td>\n",
       "      <td>237</td>\n",
       "      <td>83</td>\n",
       "      <td>202</td>\n",
       "      <td>1</td>\n",
       "      <td>294</td>\n",
       "      <td>...</td>\n",
       "      <td>186</td>\n",
       "      <td>175</td>\n",
       "      <td>185</td>\n",
       "      <td>201</td>\n",
       "      <td>28</td>\n",
       "      <td>111</td>\n",
       "      <td>136</td>\n",
       "      <td>55</td>\n",
       "      <td>212</td>\n",
       "      <td>150</td>\n",
       "    </tr>\n",
       "    <tr>\n",
       "      <th>1</th>\n",
       "      <td>117</td>\n",
       "      <td>212</td>\n",
       "      <td>44</td>\n",
       "      <td>233</td>\n",
       "      <td>191</td>\n",
       "      <td>87</td>\n",
       "      <td>135</td>\n",
       "      <td>256</td>\n",
       "      <td>105</td>\n",
       "      <td>111</td>\n",
       "      <td>...</td>\n",
       "      <td>32</td>\n",
       "      <td>252</td>\n",
       "      <td>129</td>\n",
       "      <td>223</td>\n",
       "      <td>339</td>\n",
       "      <td>218</td>\n",
       "      <td>361</td>\n",
       "      <td>350</td>\n",
       "      <td>210</td>\n",
       "      <td>252</td>\n",
       "    </tr>\n",
       "    <tr>\n",
       "      <th>2</th>\n",
       "      <td>255</td>\n",
       "      <td>105</td>\n",
       "      <td>159</td>\n",
       "      <td>171</td>\n",
       "      <td>207</td>\n",
       "      <td>311</td>\n",
       "      <td>191</td>\n",
       "      <td>278</td>\n",
       "      <td>231</td>\n",
       "      <td>296</td>\n",
       "      <td>...</td>\n",
       "      <td>238</td>\n",
       "      <td>178</td>\n",
       "      <td>141</td>\n",
       "      <td>211</td>\n",
       "      <td>363</td>\n",
       "      <td>297</td>\n",
       "      <td>15</td>\n",
       "      <td>66</td>\n",
       "      <td>211</td>\n",
       "      <td>63</td>\n",
       "    </tr>\n",
       "    <tr>\n",
       "      <th>3</th>\n",
       "      <td>48</td>\n",
       "      <td>287</td>\n",
       "      <td>81</td>\n",
       "      <td>235</td>\n",
       "      <td>316</td>\n",
       "      <td>107</td>\n",
       "      <td>65</td>\n",
       "      <td>208</td>\n",
       "      <td>9</td>\n",
       "      <td>260</td>\n",
       "      <td>...</td>\n",
       "      <td>191</td>\n",
       "      <td>2</td>\n",
       "      <td>268</td>\n",
       "      <td>319</td>\n",
       "      <td>229</td>\n",
       "      <td>120</td>\n",
       "      <td>358</td>\n",
       "      <td>320</td>\n",
       "      <td>9</td>\n",
       "      <td>282</td>\n",
       "    </tr>\n",
       "    <tr>\n",
       "      <th>4</th>\n",
       "      <td>141</td>\n",
       "      <td>341</td>\n",
       "      <td>69</td>\n",
       "      <td>176</td>\n",
       "      <td>263</td>\n",
       "      <td>101</td>\n",
       "      <td>333</td>\n",
       "      <td>255</td>\n",
       "      <td>148</td>\n",
       "      <td>340</td>\n",
       "      <td>...</td>\n",
       "      <td>185</td>\n",
       "      <td>90</td>\n",
       "      <td>24</td>\n",
       "      <td>226</td>\n",
       "      <td>118</td>\n",
       "      <td>170</td>\n",
       "      <td>305</td>\n",
       "      <td>259</td>\n",
       "      <td>266</td>\n",
       "      <td>286</td>\n",
       "    </tr>\n",
       "  </tbody>\n",
       "</table>\n",
       "<p>5 rows × 23 columns</p>\n",
       "</div>"
      ],
      "text/plain": [
       "    0    1    2    3    4    5    6    7    8    9   ...   13   14   15   16  \\\n",
       "0   89  119   48  342  357  237   83  202    1  294  ...  186  175  185  201   \n",
       "1  117  212   44  233  191   87  135  256  105  111  ...   32  252  129  223   \n",
       "2  255  105  159  171  207  311  191  278  231  296  ...  238  178  141  211   \n",
       "3   48  287   81  235  316  107   65  208    9  260  ...  191    2  268  319   \n",
       "4  141  341   69  176  263  101  333  255  148  340  ...  185   90   24  226   \n",
       "\n",
       "    17   18   19   20   21   22  \n",
       "0   28  111  136   55  212  150  \n",
       "1  339  218  361  350  210  252  \n",
       "2  363  297   15   66  211   63  \n",
       "3  229  120  358  320    9  282  \n",
       "4  118  170  305  259  266  286  \n",
       "\n",
       "[5 rows x 23 columns]"
      ]
     },
     "execution_count": 117,
     "metadata": {},
     "output_type": "execute_result"
    }
   ],
   "source": [
    "n_simulations = 100_000\n",
    "n_people = 23\n",
    "\n",
    "birthdays = np.random.choice(range(365), size=(n_simulations, n_people))\n",
    "df = pd.DataFrame(birthdays)\n",
    "df.head()"
   ]
  },
  {
   "cell_type": "code",
   "execution_count": 118,
   "metadata": {},
   "outputs": [
    {
     "data": {
      "text/html": [
       "<div>\n",
       "<style scoped>\n",
       "    .dataframe tbody tr th:only-of-type {\n",
       "        vertical-align: middle;\n",
       "    }\n",
       "\n",
       "    .dataframe tbody tr th {\n",
       "        vertical-align: top;\n",
       "    }\n",
       "\n",
       "    .dataframe thead th {\n",
       "        text-align: right;\n",
       "    }\n",
       "</style>\n",
       "<table border=\"1\" class=\"dataframe\">\n",
       "  <thead>\n",
       "    <tr style=\"text-align: right;\">\n",
       "      <th></th>\n",
       "      <th>0</th>\n",
       "      <th>1</th>\n",
       "      <th>2</th>\n",
       "      <th>3</th>\n",
       "      <th>4</th>\n",
       "      <th>5</th>\n",
       "      <th>6</th>\n",
       "      <th>7</th>\n",
       "      <th>8</th>\n",
       "      <th>9</th>\n",
       "      <th>...</th>\n",
       "      <th>14</th>\n",
       "      <th>15</th>\n",
       "      <th>16</th>\n",
       "      <th>17</th>\n",
       "      <th>18</th>\n",
       "      <th>19</th>\n",
       "      <th>20</th>\n",
       "      <th>21</th>\n",
       "      <th>22</th>\n",
       "      <th>n_unique</th>\n",
       "    </tr>\n",
       "  </thead>\n",
       "  <tbody>\n",
       "    <tr>\n",
       "      <th>0</th>\n",
       "      <td>89</td>\n",
       "      <td>119</td>\n",
       "      <td>48</td>\n",
       "      <td>342</td>\n",
       "      <td>357</td>\n",
       "      <td>237</td>\n",
       "      <td>83</td>\n",
       "      <td>202</td>\n",
       "      <td>1</td>\n",
       "      <td>294</td>\n",
       "      <td>...</td>\n",
       "      <td>175</td>\n",
       "      <td>185</td>\n",
       "      <td>201</td>\n",
       "      <td>28</td>\n",
       "      <td>111</td>\n",
       "      <td>136</td>\n",
       "      <td>55</td>\n",
       "      <td>212</td>\n",
       "      <td>150</td>\n",
       "      <td>23</td>\n",
       "    </tr>\n",
       "    <tr>\n",
       "      <th>1</th>\n",
       "      <td>117</td>\n",
       "      <td>212</td>\n",
       "      <td>44</td>\n",
       "      <td>233</td>\n",
       "      <td>191</td>\n",
       "      <td>87</td>\n",
       "      <td>135</td>\n",
       "      <td>256</td>\n",
       "      <td>105</td>\n",
       "      <td>111</td>\n",
       "      <td>...</td>\n",
       "      <td>252</td>\n",
       "      <td>129</td>\n",
       "      <td>223</td>\n",
       "      <td>339</td>\n",
       "      <td>218</td>\n",
       "      <td>361</td>\n",
       "      <td>350</td>\n",
       "      <td>210</td>\n",
       "      <td>252</td>\n",
       "      <td>21</td>\n",
       "    </tr>\n",
       "    <tr>\n",
       "      <th>2</th>\n",
       "      <td>255</td>\n",
       "      <td>105</td>\n",
       "      <td>159</td>\n",
       "      <td>171</td>\n",
       "      <td>207</td>\n",
       "      <td>311</td>\n",
       "      <td>191</td>\n",
       "      <td>278</td>\n",
       "      <td>231</td>\n",
       "      <td>296</td>\n",
       "      <td>...</td>\n",
       "      <td>178</td>\n",
       "      <td>141</td>\n",
       "      <td>211</td>\n",
       "      <td>363</td>\n",
       "      <td>297</td>\n",
       "      <td>15</td>\n",
       "      <td>66</td>\n",
       "      <td>211</td>\n",
       "      <td>63</td>\n",
       "      <td>22</td>\n",
       "    </tr>\n",
       "    <tr>\n",
       "      <th>3</th>\n",
       "      <td>48</td>\n",
       "      <td>287</td>\n",
       "      <td>81</td>\n",
       "      <td>235</td>\n",
       "      <td>316</td>\n",
       "      <td>107</td>\n",
       "      <td>65</td>\n",
       "      <td>208</td>\n",
       "      <td>9</td>\n",
       "      <td>260</td>\n",
       "      <td>...</td>\n",
       "      <td>2</td>\n",
       "      <td>268</td>\n",
       "      <td>319</td>\n",
       "      <td>229</td>\n",
       "      <td>120</td>\n",
       "      <td>358</td>\n",
       "      <td>320</td>\n",
       "      <td>9</td>\n",
       "      <td>282</td>\n",
       "      <td>22</td>\n",
       "    </tr>\n",
       "    <tr>\n",
       "      <th>4</th>\n",
       "      <td>141</td>\n",
       "      <td>341</td>\n",
       "      <td>69</td>\n",
       "      <td>176</td>\n",
       "      <td>263</td>\n",
       "      <td>101</td>\n",
       "      <td>333</td>\n",
       "      <td>255</td>\n",
       "      <td>148</td>\n",
       "      <td>340</td>\n",
       "      <td>...</td>\n",
       "      <td>90</td>\n",
       "      <td>24</td>\n",
       "      <td>226</td>\n",
       "      <td>118</td>\n",
       "      <td>170</td>\n",
       "      <td>305</td>\n",
       "      <td>259</td>\n",
       "      <td>266</td>\n",
       "      <td>286</td>\n",
       "      <td>22</td>\n",
       "    </tr>\n",
       "  </tbody>\n",
       "</table>\n",
       "<p>5 rows × 24 columns</p>\n",
       "</div>"
      ],
      "text/plain": [
       "     0    1    2    3    4    5    6    7    8    9  ...   14   15   16   17  \\\n",
       "0   89  119   48  342  357  237   83  202    1  294  ...  175  185  201   28   \n",
       "1  117  212   44  233  191   87  135  256  105  111  ...  252  129  223  339   \n",
       "2  255  105  159  171  207  311  191  278  231  296  ...  178  141  211  363   \n",
       "3   48  287   81  235  316  107   65  208    9  260  ...    2  268  319  229   \n",
       "4  141  341   69  176  263  101  333  255  148  340  ...   90   24  226  118   \n",
       "\n",
       "    18   19   20   21   22  n_unique  \n",
       "0  111  136   55  212  150        23  \n",
       "1  218  361  350  210  252        21  \n",
       "2  297   15   66  211   63        22  \n",
       "3  120  358  320    9  282        22  \n",
       "4  170  305  259  266  286        22  \n",
       "\n",
       "[5 rows x 24 columns]"
      ]
     },
     "execution_count": 118,
     "metadata": {},
     "output_type": "execute_result"
    }
   ],
   "source": [
    "# get the number of unique values per row (per observation)\n",
    "# if the number of unique values == number of people in the room,\n",
    "# then everyone has a different birthday\n",
    "df['n_unique'] = df.nunique(axis=1)\n",
    "df.head()"
   ]
  },
  {
   "cell_type": "code",
   "execution_count": 120,
   "metadata": {},
   "outputs": [
    {
     "data": {
      "text/plain": [
       "0.5095"
      ]
     },
     "execution_count": 120,
     "metadata": {},
     "output_type": "execute_result"
    }
   ],
   "source": [
    "(df.n_unique != 23).mean()"
   ]
  },
  {
   "cell_type": "markdown",
   "metadata": {},
   "source": [
    "### What if it's 20 people? "
   ]
  },
  {
   "cell_type": "code",
   "execution_count": 37,
   "metadata": {},
   "outputs": [
    {
     "data": {
      "text/plain": [
       "array([[306, 195,  73, ..., 121,  97,  51],\n",
       "       [ 42,  59, 210, ..., 167,  41, 157],\n",
       "       [ 53, 117, 119, ..., 233, 231, 294],\n",
       "       ...,\n",
       "       [  5, 246, 350, ...,  45, 185, 275],\n",
       "       [349, 310, 339, ..., 233,  29, 252],\n",
       "       [354, 303, 289, ...,  62,  82, 316]])"
      ]
     },
     "execution_count": 37,
     "metadata": {},
     "output_type": "execute_result"
    }
   ],
   "source": [
    "birthdays = list(range(1,366))\n",
    "n_trials = 10_000\n",
    "n_students = 20\n",
    "\n",
    "rooms = np.random.choice(birthdays,n_trials * n_students).reshape(n_trials, n_students)\n",
    "rooms"
   ]
  },
  {
   "cell_type": "code",
   "execution_count": 38,
   "metadata": {},
   "outputs": [
    {
     "name": "stdout",
     "output_type": "stream",
     "text": [
      "Based on 10,000 simulations, in a room of 20 people, assuming perfectly equal distribution among birthdays, the probability that there is at least one shared birthday: 0.411\n"
     ]
    }
   ],
   "source": [
    "matches = []\n",
    "for room in rooms:\n",
    "    if len(set(room)) != len(room):\n",
    "        matches.append(1)\n",
    "    else:\n",
    "        matches.append(0)\n",
    "        \n",
    "percent_matches = sum(matches)/len(matches)\n",
    "print(f\"Based on 10,000 simulations, in a room of 20 people, assuming perfectly equal distribution among birthdays, the probability that there is at least one shared birthday: {percent_matches}\")"
   ]
  },
  {
   "cell_type": "markdown",
   "metadata": {},
   "source": [
    "#### SOLUTION TWO"
   ]
  },
  {
   "cell_type": "code",
   "execution_count": 122,
   "metadata": {},
   "outputs": [
    {
     "data": {
      "text/plain": [
       "0.40948"
      ]
     },
     "execution_count": 122,
     "metadata": {},
     "output_type": "execute_result"
    }
   ],
   "source": [
    "n_simulations = 100_000\n",
    "n_people = 20\n",
    "\n",
    "birthdays = np.random.choice(range(365), size=(n_simulations, n_people))\n",
    "df = pd.DataFrame(birthdays)\n",
    "df['n_unique'] = df.nunique(axis=1)\n",
    "(df.n_unique != 20).mean()"
   ]
  },
  {
   "cell_type": "markdown",
   "metadata": {},
   "source": [
    "### 40?"
   ]
  },
  {
   "cell_type": "code",
   "execution_count": 39,
   "metadata": {},
   "outputs": [
    {
     "data": {
      "text/plain": [
       "array([[ 66, 107,  97, ..., 324, 115,  53],\n",
       "       [144,  10, 148, ..., 100, 186,  81],\n",
       "       [136,  15, 246, ..., 124, 178, 224],\n",
       "       ...,\n",
       "       [167, 267,  29, ..., 169, 186, 181],\n",
       "       [351, 294, 228, ..., 281, 152, 106],\n",
       "       [120,  59, 123, ..., 131, 257, 116]])"
      ]
     },
     "execution_count": 39,
     "metadata": {},
     "output_type": "execute_result"
    }
   ],
   "source": [
    "birthdays = list(range(1,366))\n",
    "n_trials = 10_000\n",
    "n_students = 40\n",
    "\n",
    "rooms = np.random.choice(birthdays,n_trials * n_students).reshape(n_trials, n_students)\n",
    "rooms"
   ]
  },
  {
   "cell_type": "code",
   "execution_count": 40,
   "metadata": {},
   "outputs": [
    {
     "name": "stdout",
     "output_type": "stream",
     "text": [
      "Based on 10,000 simulations, in a room of 40 people, assuming perfectly equal distribution among birthdays, the probability that there is at least one shared birthday: 0.89\n"
     ]
    }
   ],
   "source": [
    "matches = []\n",
    "for room in rooms:\n",
    "    if len(set(room)) != len(room):\n",
    "        matches.append(1)\n",
    "    else:\n",
    "        matches.append(0)\n",
    "        \n",
    "percent_matches = sum(matches)/len(matches)\n",
    "print(f\"Based on 10,000 simulations, in a room of 40 people, assuming perfectly equal distribution among birthdays, the probability that there is at least one shared birthday: {percent_matches}\")"
   ]
  },
  {
   "cell_type": "markdown",
   "metadata": {},
   "source": [
    "#### SOLUTION TWO"
   ]
  },
  {
   "cell_type": "code",
   "execution_count": 123,
   "metadata": {},
   "outputs": [
    {
     "data": {
      "text/plain": [
       "0.8926"
      ]
     },
     "execution_count": 123,
     "metadata": {},
     "output_type": "execute_result"
    }
   ],
   "source": [
    "n_simulations = 100_000\n",
    "n_people = 40\n",
    "\n",
    "birthdays = np.random.choice(range(365), size=(n_simulations, n_people))\n",
    "df = pd.DataFrame(birthdays)\n",
    "df['n_unique'] = df.nunique(axis=1)\n",
    "(df.n_unique != 40).mean()"
   ]
  }
 ],
 "metadata": {
  "kernelspec": {
   "display_name": "Python 3",
   "language": "python",
   "name": "python3"
  },
  "language_info": {
   "codemirror_mode": {
    "name": "ipython",
    "version": 3
   },
   "file_extension": ".py",
   "mimetype": "text/x-python",
   "name": "python",
   "nbconvert_exporter": "python",
   "pygments_lexer": "ipython3",
   "version": "3.7.6"
  }
 },
 "nbformat": 4,
 "nbformat_minor": 4
}
