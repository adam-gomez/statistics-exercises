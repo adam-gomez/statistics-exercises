{
 "cells": [
  {
   "cell_type": "markdown",
   "metadata": {},
   "source": [
    "# Simulation Exercises"
   ]
  },
  {
   "cell_type": "code",
   "execution_count": 1,
   "metadata": {},
   "outputs": [],
   "source": [
    "import numpy as np\n",
    "import pandas as pd\n",
    "np.random.seed(29)"
   ]
  },
  {
   "cell_type": "markdown",
   "metadata": {},
   "source": [
    "### How likely is it that you roll doubles when rolling two dice?"
   ]
  },
  {
   "cell_type": "code",
   "execution_count": 2,
   "metadata": {},
   "outputs": [
    {
     "data": {
      "text/plain": [
       "array([[6, 4],\n",
       "       [5, 6],\n",
       "       [3, 1],\n",
       "       ...,\n",
       "       [2, 5],\n",
       "       [1, 4],\n",
       "       [4, 6]])"
      ]
     },
     "execution_count": 2,
     "metadata": {},
     "output_type": "execute_result"
    }
   ],
   "source": [
    "n_trials = nrows = 10_000\n",
    "n_dice = ncols = 2\n",
    "\n",
    "rolls = np.random.choice([1, 2, 3, 4, 5, 6], n_trials * n_dice).reshape(nrows, ncols)\n",
    "rolls"
   ]
  },
  {
   "cell_type": "code",
   "execution_count": 3,
   "metadata": {},
   "outputs": [
    {
     "name": "stdout",
     "output_type": "stream",
     "text": [
      "Based on a simulation of 10,000 rolls of two dice, the probability of rolling doubles is 0.1709.\n"
     ]
    }
   ],
   "source": [
    "doubles = []\n",
    "for roll in rolls:\n",
    "    if roll[0] == roll[1]:\n",
    "        doubles.append(1)\n",
    "    else:\n",
    "        doubles.append(0)\n",
    "\n",
    "percent_doubles = sum(doubles)/len(doubles)\n",
    "print(f\"Based on a simulation of 10,000 rolls of two dice, the probability of rolling doubles is {percent_doubles}.\")"
   ]
  },
  {
   "cell_type": "markdown",
   "metadata": {},
   "source": [
    "### If you flip 8 coins, what is the probability of getting exactly 3 heads? What is the probability of getting more than 3 heads?"
   ]
  },
  {
   "cell_type": "code",
   "execution_count": 4,
   "metadata": {},
   "outputs": [
    {
     "data": {
      "text/plain": [
       "array([[0, 0, 0, ..., 0, 1, 1],\n",
       "       [0, 0, 1, ..., 1, 1, 0],\n",
       "       [1, 0, 1, ..., 1, 1, 1],\n",
       "       ...,\n",
       "       [0, 1, 0, ..., 1, 1, 0],\n",
       "       [1, 0, 0, ..., 1, 1, 1],\n",
       "       [1, 0, 0, ..., 0, 1, 0]])"
      ]
     },
     "execution_count": 4,
     "metadata": {},
     "output_type": "execute_result"
    }
   ],
   "source": [
    "n_trials = nrows = 10_000\n",
    "n_coins = ncols = 8\n",
    "\n",
    "flips = np.random.choice([0,1], n_trials * n_coins).reshape(nrows, ncols)\n",
    "flips"
   ]
  },
  {
   "cell_type": "code",
   "execution_count": 5,
   "metadata": {},
   "outputs": [
    {
     "data": {
      "text/plain": [
       "array([3, 5, 6, ..., 3, 6, 2])"
      ]
     },
     "execution_count": 5,
     "metadata": {},
     "output_type": "execute_result"
    }
   ],
   "source": [
    "sums_by_trial = flips.sum(axis=1)\n",
    "sums_by_trial"
   ]
  },
  {
   "cell_type": "code",
   "execution_count": 6,
   "metadata": {},
   "outputs": [
    {
     "data": {
      "text/plain": [
       "array([ True, False, False, ...,  True, False, False])"
      ]
     },
     "execution_count": 6,
     "metadata": {},
     "output_type": "execute_result"
    }
   ],
   "source": [
    "exactly_3 = sums_by_trial == 3\n",
    "exactly_3"
   ]
  },
  {
   "cell_type": "code",
   "execution_count": 7,
   "metadata": {},
   "outputs": [
    {
     "name": "stdout",
     "output_type": "stream",
     "text": [
      "Based on a simulation of 10,000 trials of 8 consecutive coin flips, the probability of flipping exactly three heads is 0.2243.\n"
     ]
    }
   ],
   "source": [
    "exactly_3_rate = exactly_3.astype(int).mean()\n",
    "print(f\"Based on a simulation of 10,000 trials of 8 consecutive coin flips, the probability of flipping exactly three heads is {exactly_3_rate}.\")"
   ]
  },
  {
   "cell_type": "markdown",
   "metadata": {},
   "source": [
    "### There are approximitely 3 web development cohorts for every 1 data science cohort at Codeup. Assuming that Codeup randomly selects an alumni to put on a billboard, what are the odds that the two billboards I drive past both have data science students on them?"
   ]
  },
  {
   "cell_type": "code",
   "execution_count": 8,
   "metadata": {},
   "outputs": [
    {
     "data": {
      "text/plain": [
       "array([[0.52367416, 0.30110826],\n",
       "       [0.22483308, 0.89903466],\n",
       "       [0.32563666, 0.01721882],\n",
       "       ...,\n",
       "       [0.46862724, 0.28377202],\n",
       "       [0.62598687, 0.95912283],\n",
       "       [0.44980969, 0.88367756]])"
      ]
     },
     "execution_count": 8,
     "metadata": {},
     "output_type": "execute_result"
    }
   ],
   "source": [
    "p_datasci = 0.25\n",
    "n_boards = n_cols = 2\n",
    "n_drives = n_rows = 10 ** 5\n",
    "\n",
    "data = np.random.random((n_rows, n_cols))\n",
    "data"
   ]
  },
  {
   "cell_type": "code",
   "execution_count": 9,
   "metadata": {},
   "outputs": [
    {
     "data": {
      "text/plain": [
       "array([[False, False],\n",
       "       [ True, False],\n",
       "       [False,  True],\n",
       "       ...,\n",
       "       [False, False],\n",
       "       [False, False],\n",
       "       [False, False]])"
      ]
     },
     "execution_count": 9,
     "metadata": {},
     "output_type": "execute_result"
    }
   ],
   "source": [
    "datasci_sighting = data < p_datasci\n",
    "datasci_sighting"
   ]
  },
  {
   "cell_type": "code",
   "execution_count": 10,
   "metadata": {},
   "outputs": [
    {
     "data": {
      "text/plain": [
       "array([0, 1, 1, ..., 0, 0, 0])"
      ]
     },
     "execution_count": 10,
     "metadata": {},
     "output_type": "execute_result"
    }
   ],
   "source": [
    "datasci_sighting.sum(axis=1)"
   ]
  },
  {
   "cell_type": "code",
   "execution_count": 11,
   "metadata": {
    "scrolled": true
   },
   "outputs": [
    {
     "name": "stdout",
     "output_type": "stream",
     "text": [
      "Based on 10,000 simulated drives by two billboards, the probability of both billboards containing data science students is 0.06325.\n"
     ]
    }
   ],
   "source": [
    "(datasci_sighting.sum(axis=1) >= 2).mean()\n",
    "print(f\"Based on 10,000 simulated drives by two billboards, the probability of both billboards containing data science students is {(datasci_sighting.sum(axis=1) >= 2).mean()}.\")"
   ]
  },
  {
   "cell_type": "markdown",
   "metadata": {},
   "source": [
    "### Codeup students buy, on average, 3 poptart packages (+- 1.5) a day from the snack vending machine. If on monday the machine is restocked with 17 poptart packages, how likely is it that I will be able to buy some poptarts on Friday afternoon?"
   ]
  },
  {
   "cell_type": "code",
   "execution_count": 12,
   "metadata": {},
   "outputs": [],
   "source": [
    "friday_stock = []\n",
    "for num in range(10000):\n",
    "    stock = 17\n",
    "    for n in range(5):\n",
    "        stock -= np.random.uniform(low=1.5, high=4.5)\n",
    "    friday_stock.append(stock)"
   ]
  },
  {
   "cell_type": "code",
   "execution_count": 13,
   "metadata": {},
   "outputs": [],
   "source": [
    "in_stock = []\n",
    "for stock in friday_stock:\n",
    "    if stock >= 1:\n",
    "        in_stock.append(1)\n",
    "    else:\n",
    "        in_stock.append(0)"
   ]
  },
  {
   "cell_type": "code",
   "execution_count": 14,
   "metadata": {},
   "outputs": [
    {
     "name": "stdout",
     "output_type": "stream",
     "text": [
      "Based on a simulation of 10,000 weeks, the chance that there is at least one pop tart remaining in stock after 5 days of purchases is 0.6979.\n"
     ]
    }
   ],
   "source": [
    "chance_for_tart = sum(in_stock)/len(in_stock)\n",
    "print(f\"Based on a simulation of 10,000 weeks, the chance that there is at least one pop tart remaining in stock after 5 days of purchases is {chance_for_tart}.\")"
   ]
  },
  {
   "cell_type": "markdown",
   "metadata": {},
   "source": [
    "### Compare Heights\n",
    "\n",
    "#### Men have an average height of 178 cm and standard deviation of 8cm.\n",
    "#### Women have a mean of 170, sd = 6cm.\n",
    "#### If a man and woman are chosen at random, P(woman taller than man)?"
   ]
  },
  {
   "cell_type": "code",
   "execution_count": 15,
   "metadata": {},
   "outputs": [],
   "source": [
    "man_height = np.random.normal(178, 8, size=(10000,1)).tolist()\n",
    "woman_height = np.random.normal(170,6, size=(10000,1)).tolist()"
   ]
  },
  {
   "cell_type": "code",
   "execution_count": 16,
   "metadata": {},
   "outputs": [],
   "source": [
    "woman_taller = []\n",
    "for i in range(len(man_height)):\n",
    "    if woman_height[i][0] > man_height[i][0]:\n",
    "        woman_taller.append(1)\n",
    "    else:\n",
    "        woman_taller.append(0)"
   ]
  },
  {
   "cell_type": "code",
   "execution_count": 17,
   "metadata": {},
   "outputs": [
    {
     "name": "stdout",
     "output_type": "stream",
     "text": [
      "After simulating 10,000 comparisons of a random woman to a random man, the probability that any given woman is taller than any given man is 0.2126.\n"
     ]
    }
   ],
   "source": [
    "chance_woman_taller = sum(woman_taller)/len(woman_taller)\n",
    "print(f\"After simulating 10,000 comparisons of a random woman to a random man, the probability that any given woman is taller than any given man is {chance_woman_taller}.\")"
   ]
  },
  {
   "cell_type": "markdown",
   "metadata": {},
   "source": [
    "### When installing anaconda on a student's computer, there's a 1 in 250 chance that the download is corrupted and the installation fails. What are the odds that after having 50 students download anaconda, no one has an installation issue? 100 students?"
   ]
  },
  {
   "cell_type": "code",
   "execution_count": 18,
   "metadata": {},
   "outputs": [],
   "source": [
    "n_trials = 10000\n",
    "n_students = 50\n",
    "p_fail = 1/250\n",
    "\n",
    "installs = np.random.random((n_trials,n_students))"
   ]
  },
  {
   "cell_type": "code",
   "execution_count": 19,
   "metadata": {},
   "outputs": [
    {
     "data": {
      "text/plain": [
       "array([[False, False, False, ..., False,  True, False],\n",
       "       [False, False, False, ..., False, False, False],\n",
       "       [False, False, False, ..., False, False, False],\n",
       "       ...,\n",
       "       [False, False, False, ..., False, False, False],\n",
       "       [False, False, False, ..., False, False, False],\n",
       "       [False, False, False, ..., False, False, False]])"
      ]
     },
     "execution_count": 19,
     "metadata": {},
     "output_type": "execute_result"
    }
   ],
   "source": [
    "install_failure = installs < 0.004\n",
    "install_failure"
   ]
  },
  {
   "cell_type": "code",
   "execution_count": 20,
   "metadata": {},
   "outputs": [
    {
     "data": {
      "text/plain": [
       "array([ True, False, False, ...,  True, False,  True])"
      ]
     },
     "execution_count": 20,
     "metadata": {},
     "output_type": "execute_result"
    }
   ],
   "source": [
    "(install_failure.sum(axis=1) >= 1)"
   ]
  },
  {
   "cell_type": "code",
   "execution_count": 21,
   "metadata": {},
   "outputs": [
    {
     "name": "stdout",
     "output_type": "stream",
     "text": [
      "After running 10,000 simulations, the probability that there are no failures in a group of 50 students: 0.8148\n"
     ]
    }
   ],
   "source": [
    "print(f\"After running 10,000 simulations, the probability that there are no failures in a group of 50 students: {1-(install_failure.sum(axis=1)>=1).mean()}\")"
   ]
  },
  {
   "cell_type": "code",
   "execution_count": 22,
   "metadata": {},
   "outputs": [
    {
     "name": "stdout",
     "output_type": "stream",
     "text": [
      "After running 10,000 simulations, the probability that there are no failures in a group of 100 students: 0.6672\n"
     ]
    }
   ],
   "source": [
    "n_students = 100\n",
    "installs = np.random.random((n_trials,n_students))\n",
    "install_failure = installs < 0.004\n",
    "print(f\"After running 10,000 simulations, the probability that there are no failures in a group of 100 students: {1-(install_failure.sum(axis=1)>=1).mean()}\")"
   ]
  },
  {
   "cell_type": "markdown",
   "metadata": {},
   "source": [
    "### What is the probability that we observe an installation issue within the first 150 students that download anaconda?"
   ]
  },
  {
   "cell_type": "code",
   "execution_count": 23,
   "metadata": {},
   "outputs": [
    {
     "name": "stdout",
     "output_type": "stream",
     "text": [
      "After running 10,000 simulations, the probability that there are no failures in a group of 150 students: 0.5463\n"
     ]
    }
   ],
   "source": [
    "n_students = 150\n",
    "installs = np.random.random((n_trials,n_students))\n",
    "install_failure = installs < 0.004\n",
    "print(f\"After running 10,000 simulations, the probability that there are no failures in a group of 150 students: {1-(install_failure.sum(axis=1)>=1).mean()}\")"
   ]
  },
  {
   "cell_type": "markdown",
   "metadata": {},
   "source": [
    "### How likely is it that 450 students all download anaconda without an issue?"
   ]
  },
  {
   "cell_type": "code",
   "execution_count": 24,
   "metadata": {},
   "outputs": [
    {
     "name": "stdout",
     "output_type": "stream",
     "text": [
      "After running 10,000 simulations, the probability that there are no failures in a group of 450 students: 0.16879999999999995\n"
     ]
    }
   ],
   "source": [
    "n_students = 450\n",
    "installs = np.random.random((n_trials,n_students))\n",
    "install_failure = installs < 0.004\n",
    "print(f\"After running 10,000 simulations, the probability that there are no failures in a group of 450 students: {1-(install_failure.sum(axis=1)>=1).mean()}\")"
   ]
  },
  {
   "cell_type": "markdown",
   "metadata": {},
   "source": [
    "### There's a 70% chance on any given day that there will be at least one food truck at Travis Park. However, you haven't seen a food truck there in 3 days. How unlikely is this?"
   ]
  },
  {
   "cell_type": "code",
   "execution_count": 25,
   "metadata": {},
   "outputs": [
    {
     "data": {
      "text/plain": [
       "array([[0.85769224, 0.80032733, 0.71057881],\n",
       "       [0.49072275, 0.20748525, 0.43164126],\n",
       "       [0.9754546 , 0.48757196, 0.68411212],\n",
       "       ...,\n",
       "       [0.72868148, 0.43491399, 0.25175779],\n",
       "       [0.95673347, 0.83199687, 0.67132019],\n",
       "       [0.97338735, 0.03091319, 0.48831878]])"
      ]
     },
     "execution_count": 25,
     "metadata": {},
     "output_type": "execute_result"
    }
   ],
   "source": [
    "p_food = .70\n",
    "n_trials = 10000\n",
    "n_days = 3\n",
    "\n",
    "food_truck = np.random.random((n_trials, n_days))\n",
    "food_truck"
   ]
  },
  {
   "cell_type": "code",
   "execution_count": 26,
   "metadata": {},
   "outputs": [
    {
     "data": {
      "text/plain": [
       "array([[False, False, False],\n",
       "       [ True,  True,  True],\n",
       "       [False,  True,  True],\n",
       "       ...,\n",
       "       [False,  True,  True],\n",
       "       [False, False,  True],\n",
       "       [False,  True,  True]])"
      ]
     },
     "execution_count": 26,
     "metadata": {},
     "output_type": "execute_result"
    }
   ],
   "source": [
    "food_truck_present = food_truck < p_food\n",
    "food_truck_present"
   ]
  },
  {
   "cell_type": "code",
   "execution_count": 27,
   "metadata": {},
   "outputs": [
    {
     "data": {
      "text/plain": [
       "array([ True, False, False, ..., False, False, False])"
      ]
     },
     "execution_count": 27,
     "metadata": {},
     "output_type": "execute_result"
    }
   ],
   "source": [
    "(food_truck_present.sum(axis=1) == 0)"
   ]
  },
  {
   "cell_type": "code",
   "execution_count": 28,
   "metadata": {},
   "outputs": [
    {
     "data": {
      "text/plain": [
       "0.0278"
      ]
     },
     "execution_count": 28,
     "metadata": {},
     "output_type": "execute_result"
    }
   ],
   "source": [
    "no_food_3_days = (food_truck_present.sum(axis=1) == 0).mean()\n",
    "no_food_3_days"
   ]
  },
  {
   "cell_type": "code",
   "execution_count": 29,
   "metadata": {},
   "outputs": [
    {
     "name": "stdout",
     "output_type": "stream",
     "text": [
      "After 10,000 simulations, the probability that there would be no food truck for all 3 days: 0.0278\n"
     ]
    }
   ],
   "source": [
    "print(f\"After 10,000 simulations, the probability that there would be no food truck for all 3 days: {no_food_3_days}\")"
   ]
  },
  {
   "cell_type": "markdown",
   "metadata": {},
   "source": [
    "### How likely is it that a food truck will show up sometime this week?"
   ]
  },
  {
   "cell_type": "code",
   "execution_count": 30,
   "metadata": {},
   "outputs": [
    {
     "data": {
      "text/plain": [
       "array([[0.82362966, 0.48518064, 0.59832284, ..., 0.36197704, 0.35796501,\n",
       "        0.21457426],\n",
       "       [0.67455267, 0.32256746, 0.93606459, ..., 0.2946364 , 0.48016794,\n",
       "        0.92708789],\n",
       "       [0.84056316, 0.21086955, 0.17370007, ..., 0.81261892, 0.52686485,\n",
       "        0.01686217],\n",
       "       ...,\n",
       "       [0.94971857, 0.44650045, 0.80551779, ..., 0.76847661, 0.10800821,\n",
       "        0.42607581],\n",
       "       [0.65066617, 0.76981336, 0.06679755, ..., 0.95101963, 0.94136017,\n",
       "        0.69983771],\n",
       "       [0.56952336, 0.18027006, 0.82738404, ..., 0.54219219, 0.03063603,\n",
       "        0.83949336]])"
      ]
     },
     "execution_count": 30,
     "metadata": {},
     "output_type": "execute_result"
    }
   ],
   "source": [
    "p_food = .70\n",
    "n_trials = 10000\n",
    "n_days = 7\n",
    "\n",
    "food_truck = np.random.random((n_trials, n_days))\n",
    "food_truck"
   ]
  },
  {
   "cell_type": "code",
   "execution_count": 31,
   "metadata": {},
   "outputs": [
    {
     "data": {
      "text/plain": [
       "array([[False,  True,  True, ...,  True,  True,  True],\n",
       "       [ True,  True, False, ...,  True,  True, False],\n",
       "       [False,  True,  True, ..., False,  True,  True],\n",
       "       ...,\n",
       "       [False,  True, False, ..., False,  True,  True],\n",
       "       [ True, False,  True, ..., False, False,  True],\n",
       "       [ True,  True, False, ...,  True,  True, False]])"
      ]
     },
     "execution_count": 31,
     "metadata": {},
     "output_type": "execute_result"
    }
   ],
   "source": [
    "food_truck_present = food_truck < p_food\n",
    "food_truck_present"
   ]
  },
  {
   "cell_type": "code",
   "execution_count": 32,
   "metadata": {},
   "outputs": [
    {
     "data": {
      "text/plain": [
       "array([ True,  True,  True, ...,  True,  True,  True])"
      ]
     },
     "execution_count": 32,
     "metadata": {},
     "output_type": "execute_result"
    }
   ],
   "source": [
    "(food_truck_present.sum(axis=1) >= 1)"
   ]
  },
  {
   "cell_type": "code",
   "execution_count": 33,
   "metadata": {},
   "outputs": [
    {
     "data": {
      "text/plain": [
       "0.9998"
      ]
     },
     "execution_count": 33,
     "metadata": {},
     "output_type": "execute_result"
    }
   ],
   "source": [
    "at_least_1_food_7_days = (food_truck_present.sum(axis=1) >= 1).mean()\n",
    "at_least_1_food_7_days"
   ]
  },
  {
   "cell_type": "code",
   "execution_count": 34,
   "metadata": {},
   "outputs": [
    {
     "name": "stdout",
     "output_type": "stream",
     "text": [
      "The probability that there will be at least one food truck present at some point during any given week: 0.9998\n"
     ]
    }
   ],
   "source": [
    "print(f\"The probability that there will be at least one food truck present at some point during any given week: {at_least_1_food_7_days}\")"
   ]
  },
  {
   "cell_type": "markdown",
   "metadata": {},
   "source": [
    "### If 23 people are in the same room, what are the odds that two of them share a birthday?"
   ]
  },
  {
   "cell_type": "code",
   "execution_count": 35,
   "metadata": {},
   "outputs": [
    {
     "data": {
      "text/plain": [
       "array([[ 87, 165, 326, ..., 133, 256, 316],\n",
       "       [ 63, 110, 176, ..., 304,   2,  80],\n",
       "       [222, 232,  97, ..., 355, 152, 117],\n",
       "       ...,\n",
       "       [334, 115, 357, ..., 253,  37, 168],\n",
       "       [127, 304, 102, ..., 352,  74, 130],\n",
       "       [223, 291, 127, ...,  19, 120, 142]])"
      ]
     },
     "execution_count": 35,
     "metadata": {},
     "output_type": "execute_result"
    }
   ],
   "source": [
    "birthdays = list(range(1,366))\n",
    "n_trials = 10_000\n",
    "n_students = 23\n",
    "\n",
    "rooms = np.random.choice(birthdays,n_trials * n_students).reshape(n_trials, n_students)\n",
    "rooms"
   ]
  },
  {
   "cell_type": "code",
   "execution_count": 36,
   "metadata": {},
   "outputs": [
    {
     "name": "stdout",
     "output_type": "stream",
     "text": [
      "Based on 10,000 simulations, in a room of 23 people, assuming perfectly equal distribution among birthdays, the probability that there is at least one shared birthday: 0.5055\n"
     ]
    }
   ],
   "source": [
    "matches = []\n",
    "for room in rooms:\n",
    "    if len(set(room)) != len(room):\n",
    "        matches.append(1)\n",
    "    else:\n",
    "        matches.append(0)\n",
    "        \n",
    "percent_matches = sum(matches)/len(matches)\n",
    "print(f\"Based on 10,000 simulations, in a room of 23 people, assuming perfectly equal distribution among birthdays, the probability that there is at least one shared birthday: {percent_matches}\")"
   ]
  },
  {
   "cell_type": "markdown",
   "metadata": {},
   "source": [
    "### What if it's 20 people? "
   ]
  },
  {
   "cell_type": "code",
   "execution_count": 37,
   "metadata": {},
   "outputs": [
    {
     "data": {
      "text/plain": [
       "array([[306, 195,  73, ..., 121,  97,  51],\n",
       "       [ 42,  59, 210, ..., 167,  41, 157],\n",
       "       [ 53, 117, 119, ..., 233, 231, 294],\n",
       "       ...,\n",
       "       [  5, 246, 350, ...,  45, 185, 275],\n",
       "       [349, 310, 339, ..., 233,  29, 252],\n",
       "       [354, 303, 289, ...,  62,  82, 316]])"
      ]
     },
     "execution_count": 37,
     "metadata": {},
     "output_type": "execute_result"
    }
   ],
   "source": [
    "birthdays = list(range(1,366))\n",
    "n_trials = 10_000\n",
    "n_students = 20\n",
    "\n",
    "rooms = np.random.choice(birthdays,n_trials * n_students).reshape(n_trials, n_students)\n",
    "rooms"
   ]
  },
  {
   "cell_type": "code",
   "execution_count": 38,
   "metadata": {},
   "outputs": [
    {
     "name": "stdout",
     "output_type": "stream",
     "text": [
      "Based on 10,000 simulations, in a room of 20 people, assuming perfectly equal distribution among birthdays, the probability that there is at least one shared birthday: 0.411\n"
     ]
    }
   ],
   "source": [
    "matches = []\n",
    "for room in rooms:\n",
    "    if len(set(room)) != len(room):\n",
    "        matches.append(1)\n",
    "    else:\n",
    "        matches.append(0)\n",
    "        \n",
    "percent_matches = sum(matches)/len(matches)\n",
    "print(f\"Based on 10,000 simulations, in a room of 20 people, assuming perfectly equal distribution among birthdays, the probability that there is at least one shared birthday: {percent_matches}\")"
   ]
  },
  {
   "cell_type": "markdown",
   "metadata": {},
   "source": [
    "### 40?"
   ]
  },
  {
   "cell_type": "code",
   "execution_count": 39,
   "metadata": {},
   "outputs": [
    {
     "data": {
      "text/plain": [
       "array([[ 66, 107,  97, ..., 324, 115,  53],\n",
       "       [144,  10, 148, ..., 100, 186,  81],\n",
       "       [136,  15, 246, ..., 124, 178, 224],\n",
       "       ...,\n",
       "       [167, 267,  29, ..., 169, 186, 181],\n",
       "       [351, 294, 228, ..., 281, 152, 106],\n",
       "       [120,  59, 123, ..., 131, 257, 116]])"
      ]
     },
     "execution_count": 39,
     "metadata": {},
     "output_type": "execute_result"
    }
   ],
   "source": [
    "birthdays = list(range(1,366))\n",
    "n_trials = 10_000\n",
    "n_students = 40\n",
    "\n",
    "rooms = np.random.choice(birthdays,n_trials * n_students).reshape(n_trials, n_students)\n",
    "rooms"
   ]
  },
  {
   "cell_type": "code",
   "execution_count": 40,
   "metadata": {},
   "outputs": [
    {
     "name": "stdout",
     "output_type": "stream",
     "text": [
      "Based on 10,000 simulations, in a room of 40 people, assuming perfectly equal distribution among birthdays, the probability that there is at least one shared birthday: 0.89\n"
     ]
    }
   ],
   "source": [
    "matches = []\n",
    "for room in rooms:\n",
    "    if len(set(room)) != len(room):\n",
    "        matches.append(1)\n",
    "    else:\n",
    "        matches.append(0)\n",
    "        \n",
    "percent_matches = sum(matches)/len(matches)\n",
    "print(f\"Based on 10,000 simulations, in a room of 40 people, assuming perfectly equal distribution among birthdays, the probability that there is at least one shared birthday: {percent_matches}\")"
   ]
  }
 ],
 "metadata": {
  "kernelspec": {
   "display_name": "Python 3",
   "language": "python",
   "name": "python3"
  },
  "language_info": {
   "codemirror_mode": {
    "name": "ipython",
    "version": 3
   },
   "file_extension": ".py",
   "mimetype": "text/x-python",
   "name": "python",
   "nbconvert_exporter": "python",
   "pygments_lexer": "ipython3",
   "version": "3.7.6"
  }
 },
 "nbformat": 4,
 "nbformat_minor": 4
}
